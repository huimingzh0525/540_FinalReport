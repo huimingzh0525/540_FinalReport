{
 "cells": [
  {
   "cell_type": "markdown",
   "metadata": {},
   "source": [
    "# ISE 540 Final Project\n",
    "# Yelp Review - Fine Dining Restaurant Analysis"
   ]
  },
  {
   "cell_type": "markdown",
   "metadata": {},
   "source": [
    "Team Power Four\n",
    "\n",
    "Team members: \n",
    "Yan Gong, Boyang Li, Meihua Li, Huiming Zhang"
   ]
  },
  {
   "cell_type": "code",
   "execution_count": 73,
   "metadata": {},
   "outputs": [
    {
     "name": "stderr",
     "output_type": "stream",
     "text": [
      "[nltk_data] Downloading package punkt to\n",
      "[nltk_data]     C:\\Users\\limei\\AppData\\Roaming\\nltk_data...\n",
      "[nltk_data]   Package punkt is already up-to-date!\n",
      "[nltk_data] Downloading package stopwords to\n",
      "[nltk_data]     C:\\Users\\limei\\AppData\\Roaming\\nltk_data...\n",
      "[nltk_data]   Package stopwords is already up-to-date!\n"
     ]
    }
   ],
   "source": [
    "from nltk.tokenize import word_tokenize\n",
    "from nltk.tokenize import sent_tokenize\n",
    "from nltk.corpus import stopwords\n",
    "import os\n",
    "from numpy import *\n",
    "import nltk\n",
    "nltk.download('punkt')\n",
    "nltk.download('stopwords')\n",
    "import tqdm\n",
    "import tmtoolkit\n",
    "from tmtoolkit.topicmod.evaluate import results_by_parameter\n",
    "import pyLDAvis\n",
    "import pyLDAvis.gensim\n",
    "import gensim.corpora as corpora\n",
    "from gensim.models import LdaMulticore\n",
    "from gensim.utils import ClippedCorpus\n",
    "import matplotlib.pyplot as plt\n",
    "from gensim.models import CoherenceModel\n",
    "from sklearn.ensemble import RandomForestClassifier\n",
    "from sklearn.linear_model import LinearRegression, LogisticRegression\n",
    "from sklearn.model_selection import train_test_split\n",
    "from sklearn import metrics\n",
    "import scipy.stats as stats\n",
    "from sklearn.metrics import roc_curve, auc\n",
    "from sklearn.metrics import confusion_matrix\n",
    "from sklearn.metrics import average_precision_score\n",
    "import seaborn as sns\n",
    "from nltk.stem.wordnet import WordNetLemmatizer\n",
    "import gensim\n",
    "from gensim.utils import simple_preprocess\n",
    "from sklearn.decomposition import LatentDirichletAllocation as LDA\n",
    "from nltk.stem.porter import PorterStemmer\n",
    "from sklearn.feature_extraction.text import CountVectorizer, TfidfVectorizer\n",
    "from sklearn.feature_extraction import text\n",
    "from sklearn.feature_extraction.text import TfidfTransformer\n",
    "from sklearn.decomposition import NMF, LatentDirichletAllocation\n",
    "from sklearn.naive_bayes import MultinomialNB\n",
    "from textblob import TextBlob\n",
    "import warnings\n",
    "warnings.filterwarnings('ignore')"
   ]
  },
  {
   "cell_type": "code",
   "execution_count": 121,
   "metadata": {},
   "outputs": [],
   "source": [
    "from datetime import datetime\n",
    "start_time = datetime.now()\n",
    "import pandas as pd\n",
    "import scipy.stats\n",
    "import numpy as np\n",
    "import datetime as dt\n",
    "import seaborn as sns\n",
    "import matplotlib.pyplot as plt\n",
    "from sklearn.utils import shuffle as reset\n",
    "from sklearn.metrics import classification_report\n",
    "%matplotlib inline\n",
    "from scipy import stats\n",
    "from sklearn import model_selection\n",
    "from sklearn.neighbors import KNeighborsClassifier\n",
    "import math\n",
    "\n",
    "from sklearn.linear_model import LogisticRegression\n",
    "import matplotlib.cbook as cbook\n",
    "from sklearn.linear_model import LinearRegression\n",
    "from sklearn.ensemble import RandomForestClassifier\n",
    "from sklearn.ensemble import AdaBoostRegressor\n",
    "from sklearn.neural_network import MLPRegressor\n",
    "from sklearn.ensemble import GradientBoostingRegressor\n",
    "from sklearn.ensemble import RandomForestRegressor\n",
    "from sklearn.tree import DecisionTreeRegressor\n",
    "from sklearn.metrics import r2_score\n",
    "from sklearn.model_selection import cross_validate\n",
    "from sklearn.feature_selection import RFECV\n",
    "from mlxtend.feature_selection import SequentialFeatureSelector as SFS\n",
    "import xgboost as xgb\n",
    "import lightgbm as lgb\n",
    "from matplotlib.ticker import MaxNLocator\n",
    "from sklearn.metrics import classification_report\n",
    "from sklearn import metrics\n",
    "import sys\n",
    "from PIL import Image\n",
    "import io\n",
    "import plotly.offline as py \n",
    "py.init_notebook_mode(connected=True) \n",
    "import plotly.graph_objs as go \n",
    "import plotly.tools as tls \n",
    "import plotly.figure_factory as ff "
   ]
  },
  {
   "cell_type": "markdown",
   "metadata": {},
   "source": [
    "## Read json files"
   ]
  },
  {
   "cell_type": "code",
   "execution_count": 77,
   "metadata": {},
   "outputs": [],
   "source": [
    "business_json_path = 'yelp_academic_dataset_business.json'\n",
    "df_b = pd.read_json(business_json_path, lines=True)"
   ]
  },
  {
   "cell_type": "markdown",
   "metadata": {},
   "source": [
    "### Select categories as Restaurant"
   ]
  },
  {
   "cell_type": "code",
   "execution_count": 78,
   "metadata": {},
   "outputs": [],
   "source": [
    "df_b = df_b[df_b['categories'].str.contains('Restaurant')==True]"
   ]
  },
  {
   "cell_type": "markdown",
   "metadata": {},
   "source": [
    "### Find the city with the most business parties"
   ]
  },
  {
   "cell_type": "code",
   "execution_count": 79,
   "metadata": {},
   "outputs": [
    {
     "data": {
      "text/plain": [
       "Las Vegas            31631\n",
       "Toronto              20366\n",
       "Phoenix              20171\n",
       "Charlotte            10422\n",
       "Scottsdale            9342\n",
       "                     ...  \n",
       "Central Henderson        1\n",
       "Scarobrough              1\n",
       "Sandy Ridge              1\n",
       "Apache Trail             1\n",
       "Parma mid birth          1\n",
       "Name: city, Length: 1251, dtype: int64"
      ]
     },
     "execution_count": 79,
     "metadata": {},
     "output_type": "execute_result"
    }
   ],
   "source": [
    "business_city=df_b['city'].value_counts()\n",
    "business_city.sort_values(ascending=False)"
   ]
  },
  {
   "cell_type": "code",
   "execution_count": 80,
   "metadata": {},
   "outputs": [],
   "source": [
    "review_json_path = 'yelp_academic_dataset_review.json'\n",
    "size = 1000000\n",
    "df_review = pd.read_json(review_json_path, lines=True,\n",
    "                      dtype={'review_id':str,'user_id':str,'business_id':str,'stars':int,\n",
    "                             'date':str,'text':str,'useful':int,'funny':int,'cool':int},chunksize = size)\n",
    "chunk_list = []\n",
    "count = 0\n",
    "for chunk in df_review:\n",
    "    chunk = chunk.rename(columns={'stars': 'review_stars'})\n",
    "    chunk_merged = pd.merge(df_b, chunk, on='business_id', how='inner')\n",
    "    if count == 0:\n",
    "        df_review1 = chunk_merged\n",
    "    if count >= 1:\n",
    "        df_review1 = pd.concat([df_review1, chunk_merged])\n",
    "    count += 1"
   ]
  },
  {
   "cell_type": "code",
   "execution_count": 81,
   "metadata": {},
   "outputs": [],
   "source": [
    "las_vegas = df_review1[df_review1['city'] == 'Las Vegas']"
   ]
  },
  {
   "cell_type": "code",
   "execution_count": 82,
   "metadata": {},
   "outputs": [],
   "source": [
    "RestaurantsPriceRange=[]\n",
    "for i in range(len(las_vegas)):\n",
    "    tmp=las_vegas.iloc[i]['attributes']\n",
    "    try:\n",
    "        tmp_dict=eval(tmp)\n",
    "        tmp=tmp_dict['RestaurantsPriceRange2']\n",
    "        RestaurantsPriceRange.append(tmp)\n",
    "    except:\n",
    "        RestaurantsPriceRange.append('NAN')"
   ]
  },
  {
   "cell_type": "code",
   "execution_count": 83,
   "metadata": {},
   "outputs": [],
   "source": [
    "las_vegas['RestaurantsPriceRange']=RestaurantsPriceRange"
   ]
  },
  {
   "cell_type": "markdown",
   "metadata": {},
   "source": [
    "### Sampling: 15%"
   ]
  },
  {
   "cell_type": "code",
   "execution_count": 84,
   "metadata": {},
   "outputs": [],
   "source": [
    "lv_fourstar=las_vegas[las_vegas['RestaurantsPriceRange']=='4']\n",
    "lv_fourstar=lv_fourstar.sample(frac=0.15, replace=False, random_state=1)"
   ]
  },
  {
   "cell_type": "code",
   "execution_count": 85,
   "metadata": {},
   "outputs": [],
   "source": [
    "lv_nonfourstar=las_vegas[las_vegas['RestaurantsPriceRange']!='4']\n",
    "lv_nonfourstar=lv_nonfourstar.sample(frac=0.15, replace=False, random_state=1)"
   ]
  },
  {
   "cell_type": "code",
   "execution_count": 86,
   "metadata": {},
   "outputs": [],
   "source": [
    "las_vegas_copy=pd.concat([lv_nonfourstar, lv_fourstar])"
   ]
  },
  {
   "cell_type": "code",
   "execution_count": 88,
   "metadata": {},
   "outputs": [
    {
     "data": {
      "text/html": [
       "<div>\n",
       "<style scoped>\n",
       "    .dataframe tbody tr th:only-of-type {\n",
       "        vertical-align: middle;\n",
       "    }\n",
       "\n",
       "    .dataframe tbody tr th {\n",
       "        vertical-align: top;\n",
       "    }\n",
       "\n",
       "    .dataframe thead th {\n",
       "        text-align: right;\n",
       "    }\n",
       "</style>\n",
       "<table border=\"1\" class=\"dataframe\">\n",
       "  <thead>\n",
       "    <tr style=\"text-align: right;\">\n",
       "      <th></th>\n",
       "      <th>Unnamed: 0</th>\n",
       "      <th>Unnamed: 0.1</th>\n",
       "      <th>address</th>\n",
       "      <th>attributes</th>\n",
       "      <th>business_id</th>\n",
       "      <th>categories</th>\n",
       "      <th>city</th>\n",
       "      <th>hours</th>\n",
       "      <th>is_open</th>\n",
       "      <th>latitude</th>\n",
       "      <th>...</th>\n",
       "      <th>state</th>\n",
       "      <th>cool</th>\n",
       "      <th>date</th>\n",
       "      <th>funny</th>\n",
       "      <th>review_id</th>\n",
       "      <th>review_stars</th>\n",
       "      <th>text</th>\n",
       "      <th>useful</th>\n",
       "      <th>user_id</th>\n",
       "      <th>RestaurantsPriceRange</th>\n",
       "    </tr>\n",
       "  </thead>\n",
       "  <tbody>\n",
       "    <tr>\n",
       "      <th>0</th>\n",
       "      <td>0</td>\n",
       "      <td>120</td>\n",
       "      <td>6870 S Rainbow Blvd, Ste 117</td>\n",
       "      <td>{'BusinessParking': \"{'garage': False, 'street...</td>\n",
       "      <td>oiAlXZPIFm2nBCt0DHLu_Q</td>\n",
       "      <td>Dry Cleaning &amp; Laundry, Local Services, Laundr...</td>\n",
       "      <td>Las Vegas</td>\n",
       "      <td>{'Monday': '7:0-19:0', 'Tuesday': '7:0-19:0', ...</td>\n",
       "      <td>1</td>\n",
       "      <td>36.063977</td>\n",
       "      <td>...</td>\n",
       "      <td>NV</td>\n",
       "      <td>1</td>\n",
       "      <td>2016-06-23 05:50:54</td>\n",
       "      <td>0</td>\n",
       "      <td>9bMxu3-RCv0ncYnNNNkbWg</td>\n",
       "      <td>5</td>\n",
       "      <td>I've been coming to this dry cleaner for almos...</td>\n",
       "      <td>3</td>\n",
       "      <td>IMguz1Z9dp8HG0UfeLEdEg</td>\n",
       "      <td>1</td>\n",
       "    </tr>\n",
       "    <tr>\n",
       "      <th>1</th>\n",
       "      <td>1</td>\n",
       "      <td>121</td>\n",
       "      <td>6870 S Rainbow Blvd, Ste 117</td>\n",
       "      <td>{'BusinessParking': \"{'garage': False, 'street...</td>\n",
       "      <td>oiAlXZPIFm2nBCt0DHLu_Q</td>\n",
       "      <td>Dry Cleaning &amp; Laundry, Local Services, Laundr...</td>\n",
       "      <td>Las Vegas</td>\n",
       "      <td>{'Monday': '7:0-19:0', 'Tuesday': '7:0-19:0', ...</td>\n",
       "      <td>1</td>\n",
       "      <td>36.063977</td>\n",
       "      <td>...</td>\n",
       "      <td>NV</td>\n",
       "      <td>0</td>\n",
       "      <td>2011-10-27 23:35:10</td>\n",
       "      <td>0</td>\n",
       "      <td>b-B3ycJZmOTP5EdWTwCsMA</td>\n",
       "      <td>1</td>\n",
       "      <td>They lost 2 pairs of my suitpants and told me ...</td>\n",
       "      <td>1</td>\n",
       "      <td>_TAVpa1Y2_5KZ5wWYeX_6g</td>\n",
       "      <td>1</td>\n",
       "    </tr>\n",
       "    <tr>\n",
       "      <th>2</th>\n",
       "      <td>2</td>\n",
       "      <td>122</td>\n",
       "      <td>6870 S Rainbow Blvd, Ste 117</td>\n",
       "      <td>{'BusinessParking': \"{'garage': False, 'street...</td>\n",
       "      <td>oiAlXZPIFm2nBCt0DHLu_Q</td>\n",
       "      <td>Dry Cleaning &amp; Laundry, Local Services, Laundr...</td>\n",
       "      <td>Las Vegas</td>\n",
       "      <td>{'Monday': '7:0-19:0', 'Tuesday': '7:0-19:0', ...</td>\n",
       "      <td>1</td>\n",
       "      <td>36.063977</td>\n",
       "      <td>...</td>\n",
       "      <td>NV</td>\n",
       "      <td>0</td>\n",
       "      <td>2013-07-13 03:25:04</td>\n",
       "      <td>0</td>\n",
       "      <td>MaIIb4Er_LuqN3zSSdA06w</td>\n",
       "      <td>5</td>\n",
       "      <td>I have been going to this dry cleaning since I...</td>\n",
       "      <td>1</td>\n",
       "      <td>45R6BBybzwDuJaL08d1myQ</td>\n",
       "      <td>1</td>\n",
       "    </tr>\n",
       "    <tr>\n",
       "      <th>3</th>\n",
       "      <td>3</td>\n",
       "      <td>123</td>\n",
       "      <td>6870 S Rainbow Blvd, Ste 117</td>\n",
       "      <td>{'BusinessParking': \"{'garage': False, 'street...</td>\n",
       "      <td>oiAlXZPIFm2nBCt0DHLu_Q</td>\n",
       "      <td>Dry Cleaning &amp; Laundry, Local Services, Laundr...</td>\n",
       "      <td>Las Vegas</td>\n",
       "      <td>{'Monday': '7:0-19:0', 'Tuesday': '7:0-19:0', ...</td>\n",
       "      <td>1</td>\n",
       "      <td>36.063977</td>\n",
       "      <td>...</td>\n",
       "      <td>NV</td>\n",
       "      <td>1</td>\n",
       "      <td>2016-06-23 01:58:09</td>\n",
       "      <td>1</td>\n",
       "      <td>RALKX860sppIq-oxsSFhqQ</td>\n",
       "      <td>1</td>\n",
       "      <td>I've only had my dry cleaning done here twice ...</td>\n",
       "      <td>4</td>\n",
       "      <td>7iziCsP2MkHMmckpYVPSDg</td>\n",
       "      <td>1</td>\n",
       "    </tr>\n",
       "    <tr>\n",
       "      <th>4</th>\n",
       "      <td>4</td>\n",
       "      <td>124</td>\n",
       "      <td>6870 S Rainbow Blvd, Ste 117</td>\n",
       "      <td>{'BusinessParking': \"{'garage': False, 'street...</td>\n",
       "      <td>oiAlXZPIFm2nBCt0DHLu_Q</td>\n",
       "      <td>Dry Cleaning &amp; Laundry, Local Services, Laundr...</td>\n",
       "      <td>Las Vegas</td>\n",
       "      <td>{'Monday': '7:0-19:0', 'Tuesday': '7:0-19:0', ...</td>\n",
       "      <td>1</td>\n",
       "      <td>36.063977</td>\n",
       "      <td>...</td>\n",
       "      <td>NV</td>\n",
       "      <td>1</td>\n",
       "      <td>2012-09-12 20:38:40</td>\n",
       "      <td>1</td>\n",
       "      <td>zmueCMXpF3v2Gz2Szxq01g</td>\n",
       "      <td>5</td>\n",
       "      <td>After reading the reviews of the cleaners clos...</td>\n",
       "      <td>3</td>\n",
       "      <td>Yg08tRMxm0eaL-rXyNIAHw</td>\n",
       "      <td>1</td>\n",
       "    </tr>\n",
       "  </tbody>\n",
       "</table>\n",
       "<p>5 rows × 25 columns</p>\n",
       "</div>"
      ],
      "text/plain": [
       "   Unnamed: 0  Unnamed: 0.1                       address  \\\n",
       "0           0           120  6870 S Rainbow Blvd, Ste 117   \n",
       "1           1           121  6870 S Rainbow Blvd, Ste 117   \n",
       "2           2           122  6870 S Rainbow Blvd, Ste 117   \n",
       "3           3           123  6870 S Rainbow Blvd, Ste 117   \n",
       "4           4           124  6870 S Rainbow Blvd, Ste 117   \n",
       "\n",
       "                                          attributes             business_id  \\\n",
       "0  {'BusinessParking': \"{'garage': False, 'street...  oiAlXZPIFm2nBCt0DHLu_Q   \n",
       "1  {'BusinessParking': \"{'garage': False, 'street...  oiAlXZPIFm2nBCt0DHLu_Q   \n",
       "2  {'BusinessParking': \"{'garage': False, 'street...  oiAlXZPIFm2nBCt0DHLu_Q   \n",
       "3  {'BusinessParking': \"{'garage': False, 'street...  oiAlXZPIFm2nBCt0DHLu_Q   \n",
       "4  {'BusinessParking': \"{'garage': False, 'street...  oiAlXZPIFm2nBCt0DHLu_Q   \n",
       "\n",
       "                                          categories       city  \\\n",
       "0  Dry Cleaning & Laundry, Local Services, Laundr...  Las Vegas   \n",
       "1  Dry Cleaning & Laundry, Local Services, Laundr...  Las Vegas   \n",
       "2  Dry Cleaning & Laundry, Local Services, Laundr...  Las Vegas   \n",
       "3  Dry Cleaning & Laundry, Local Services, Laundr...  Las Vegas   \n",
       "4  Dry Cleaning & Laundry, Local Services, Laundr...  Las Vegas   \n",
       "\n",
       "                                               hours  is_open   latitude  ...  \\\n",
       "0  {'Monday': '7:0-19:0', 'Tuesday': '7:0-19:0', ...        1  36.063977  ...   \n",
       "1  {'Monday': '7:0-19:0', 'Tuesday': '7:0-19:0', ...        1  36.063977  ...   \n",
       "2  {'Monday': '7:0-19:0', 'Tuesday': '7:0-19:0', ...        1  36.063977  ...   \n",
       "3  {'Monday': '7:0-19:0', 'Tuesday': '7:0-19:0', ...        1  36.063977  ...   \n",
       "4  {'Monday': '7:0-19:0', 'Tuesday': '7:0-19:0', ...        1  36.063977  ...   \n",
       "\n",
       "   state cool                 date  funny               review_id  \\\n",
       "0     NV    1  2016-06-23 05:50:54      0  9bMxu3-RCv0ncYnNNNkbWg   \n",
       "1     NV    0  2011-10-27 23:35:10      0  b-B3ycJZmOTP5EdWTwCsMA   \n",
       "2     NV    0  2013-07-13 03:25:04      0  MaIIb4Er_LuqN3zSSdA06w   \n",
       "3     NV    1  2016-06-23 01:58:09      1  RALKX860sppIq-oxsSFhqQ   \n",
       "4     NV    1  2012-09-12 20:38:40      1  zmueCMXpF3v2Gz2Szxq01g   \n",
       "\n",
       "  review_stars                                               text useful  \\\n",
       "0            5  I've been coming to this dry cleaner for almos...      3   \n",
       "1            1  They lost 2 pairs of my suitpants and told me ...      1   \n",
       "2            5  I have been going to this dry cleaning since I...      1   \n",
       "3            1  I've only had my dry cleaning done here twice ...      4   \n",
       "4            5  After reading the reviews of the cleaners clos...      3   \n",
       "\n",
       "                  user_id RestaurantsPriceRange  \n",
       "0  IMguz1Z9dp8HG0UfeLEdEg                     1  \n",
       "1  _TAVpa1Y2_5KZ5wWYeX_6g                     1  \n",
       "2  45R6BBybzwDuJaL08d1myQ                     1  \n",
       "3  7iziCsP2MkHMmckpYVPSDg                     1  \n",
       "4  Yg08tRMxm0eaL-rXyNIAHw                     1  \n",
       "\n",
       "[5 rows x 25 columns]"
      ]
     },
     "execution_count": 88,
     "metadata": {},
     "output_type": "execute_result"
    }
   ],
   "source": [
    "las_vegas_copy.head()"
   ]
  },
  {
   "cell_type": "code",
   "execution_count": 89,
   "metadata": {},
   "outputs": [],
   "source": [
    "las_vegas_copy.loc[(las_vegas_copy['RestaurantsPriceRange']=='4'), 'RestaurantsPriceRange'] = 1"
   ]
  },
  {
   "cell_type": "code",
   "execution_count": 90,
   "metadata": {},
   "outputs": [],
   "source": [
    "las_vegas_copy.loc[(las_vegas_copy['RestaurantsPriceRange']!= 1), 'RestaurantsPriceRange'] = 0"
   ]
  },
  {
   "cell_type": "markdown",
   "metadata": {},
   "source": [
    "### Tokenize by Sentence"
   ]
  },
  {
   "cell_type": "code",
   "execution_count": 93,
   "metadata": {},
   "outputs": [],
   "source": [
    "def tokenize(review):\n",
    "    try:\n",
    "        return sent_tokenize(review)\n",
    "    except:\n",
    "        return ''  "
   ]
  },
  {
   "cell_type": "code",
   "execution_count": 94,
   "metadata": {},
   "outputs": [
    {
     "data": {
      "text/html": [
       "<div>\n",
       "<style scoped>\n",
       "    .dataframe tbody tr th:only-of-type {\n",
       "        vertical-align: middle;\n",
       "    }\n",
       "\n",
       "    .dataframe tbody tr th {\n",
       "        vertical-align: top;\n",
       "    }\n",
       "\n",
       "    .dataframe thead th {\n",
       "        text-align: right;\n",
       "    }\n",
       "</style>\n",
       "<table border=\"1\" class=\"dataframe\">\n",
       "  <thead>\n",
       "    <tr style=\"text-align: right;\">\n",
       "      <th></th>\n",
       "      <th>review_id</th>\n",
       "      <th>level_1</th>\n",
       "      <th>0</th>\n",
       "    </tr>\n",
       "  </thead>\n",
       "  <tbody>\n",
       "    <tr>\n",
       "      <th>0</th>\n",
       "      <td>v7jLgsmYo9J-Cd1vn-yMnw</td>\n",
       "      <td>0</td>\n",
       "      <td>Did you see the BEAUTIFUL BLONDE'S that are Ba...</td>\n",
       "    </tr>\n",
       "    <tr>\n",
       "      <th>1</th>\n",
       "      <td>v7jLgsmYo9J-Cd1vn-yMnw</td>\n",
       "      <td>1</td>\n",
       "      <td>OMG.</td>\n",
       "    </tr>\n",
       "    <tr>\n",
       "      <th>2</th>\n",
       "      <td>v7jLgsmYo9J-Cd1vn-yMnw</td>\n",
       "      <td>2</td>\n",
       "      <td>This place is Great.</td>\n",
       "    </tr>\n",
       "    <tr>\n",
       "      <th>3</th>\n",
       "      <td>v7jLgsmYo9J-Cd1vn-yMnw</td>\n",
       "      <td>3</td>\n",
       "      <td>Really good Food.</td>\n",
       "    </tr>\n",
       "    <tr>\n",
       "      <th>4</th>\n",
       "      <td>v7jLgsmYo9J-Cd1vn-yMnw</td>\n",
       "      <td>4</td>\n",
       "      <td>Tip well its worth it.</td>\n",
       "    </tr>\n",
       "  </tbody>\n",
       "</table>\n",
       "</div>"
      ],
      "text/plain": [
       "                review_id  level_1  \\\n",
       "0  v7jLgsmYo9J-Cd1vn-yMnw        0   \n",
       "1  v7jLgsmYo9J-Cd1vn-yMnw        1   \n",
       "2  v7jLgsmYo9J-Cd1vn-yMnw        2   \n",
       "3  v7jLgsmYo9J-Cd1vn-yMnw        3   \n",
       "4  v7jLgsmYo9J-Cd1vn-yMnw        4   \n",
       "\n",
       "                                                   0  \n",
       "0  Did you see the BEAUTIFUL BLONDE'S that are Ba...  \n",
       "1                                               OMG.  \n",
       "2                               This place is Great.  \n",
       "3                                  Really good Food.  \n",
       "4                             Tip well its worth it.  "
      ]
     },
     "execution_count": 94,
     "metadata": {},
     "output_type": "execute_result"
    }
   ],
   "source": [
    "las_vegas_copy['tokenize'] = las_vegas_copy['text'].apply(tokenize)\n",
    "df_tokenize = pd.DataFrame(las_vegas_copy.set_index(['review_id'])['tokenize'].apply(pd.Series).stack()).reset_index()\n",
    "df_tokenize.head()"
   ]
  },
  {
   "cell_type": "code",
   "execution_count": 95,
   "metadata": {},
   "outputs": [],
   "source": [
    "df_tokenize.columns = ['review_id', 'level_1', 'sentence']"
   ]
  },
  {
   "cell_type": "code",
   "execution_count": 96,
   "metadata": {},
   "outputs": [],
   "source": [
    "df_tokenize = df_tokenize.drop(\"level_1\", axis=1).head()"
   ]
  },
  {
   "cell_type": "code",
   "execution_count": 97,
   "metadata": {},
   "outputs": [
    {
     "data": {
      "text/html": [
       "<div>\n",
       "<style scoped>\n",
       "    .dataframe tbody tr th:only-of-type {\n",
       "        vertical-align: middle;\n",
       "    }\n",
       "\n",
       "    .dataframe tbody tr th {\n",
       "        vertical-align: top;\n",
       "    }\n",
       "\n",
       "    .dataframe thead th {\n",
       "        text-align: right;\n",
       "    }\n",
       "</style>\n",
       "<table border=\"1\" class=\"dataframe\">\n",
       "  <thead>\n",
       "    <tr style=\"text-align: right;\">\n",
       "      <th></th>\n",
       "      <th>review_id</th>\n",
       "      <th>sentence</th>\n",
       "    </tr>\n",
       "  </thead>\n",
       "  <tbody>\n",
       "    <tr>\n",
       "      <th>0</th>\n",
       "      <td>v7jLgsmYo9J-Cd1vn-yMnw</td>\n",
       "      <td>Did you see the BEAUTIFUL BLONDE'S that are Ba...</td>\n",
       "    </tr>\n",
       "    <tr>\n",
       "      <th>1</th>\n",
       "      <td>v7jLgsmYo9J-Cd1vn-yMnw</td>\n",
       "      <td>OMG.</td>\n",
       "    </tr>\n",
       "    <tr>\n",
       "      <th>2</th>\n",
       "      <td>v7jLgsmYo9J-Cd1vn-yMnw</td>\n",
       "      <td>This place is Great.</td>\n",
       "    </tr>\n",
       "    <tr>\n",
       "      <th>3</th>\n",
       "      <td>v7jLgsmYo9J-Cd1vn-yMnw</td>\n",
       "      <td>Really good Food.</td>\n",
       "    </tr>\n",
       "    <tr>\n",
       "      <th>4</th>\n",
       "      <td>v7jLgsmYo9J-Cd1vn-yMnw</td>\n",
       "      <td>Tip well its worth it.</td>\n",
       "    </tr>\n",
       "  </tbody>\n",
       "</table>\n",
       "</div>"
      ],
      "text/plain": [
       "                review_id                                           sentence\n",
       "0  v7jLgsmYo9J-Cd1vn-yMnw  Did you see the BEAUTIFUL BLONDE'S that are Ba...\n",
       "1  v7jLgsmYo9J-Cd1vn-yMnw                                               OMG.\n",
       "2  v7jLgsmYo9J-Cd1vn-yMnw                               This place is Great.\n",
       "3  v7jLgsmYo9J-Cd1vn-yMnw                                  Really good Food.\n",
       "4  v7jLgsmYo9J-Cd1vn-yMnw                             Tip well its worth it."
      ]
     },
     "execution_count": 97,
     "metadata": {},
     "output_type": "execute_result"
    }
   ],
   "source": [
    "df_tokenize.head()"
   ]
  },
  {
   "cell_type": "code",
   "execution_count": 98,
   "metadata": {},
   "outputs": [],
   "source": [
    "las_vegas_tokenize = pd.merge(las_vegas_copy, df_tokenize, on = 'review_id', how='inner')"
   ]
  },
  {
   "cell_type": "markdown",
   "metadata": {},
   "source": [
    "### Sentiment Polarity"
   ]
  },
  {
   "cell_type": "code",
   "execution_count": 99,
   "metadata": {},
   "outputs": [],
   "source": [
    "def sentiment(review):\n",
    "    try:\n",
    "        return TextBlob(text).sentiment[0]\n",
    "    except:\n",
    "        return 0"
   ]
  },
  {
   "cell_type": "code",
   "execution_count": 100,
   "metadata": {},
   "outputs": [],
   "source": [
    "las_vegas_tokenize['polarity'] = las_vegas_tokenize['sentence'].apply(sentiment)"
   ]
  },
  {
   "cell_type": "code",
   "execution_count": 101,
   "metadata": {
    "scrolled": false
   },
   "outputs": [
    {
     "data": {
      "text/html": [
       "<div>\n",
       "<style scoped>\n",
       "    .dataframe tbody tr th:only-of-type {\n",
       "        vertical-align: middle;\n",
       "    }\n",
       "\n",
       "    .dataframe tbody tr th {\n",
       "        vertical-align: top;\n",
       "    }\n",
       "\n",
       "    .dataframe thead th {\n",
       "        text-align: right;\n",
       "    }\n",
       "</style>\n",
       "<table border=\"1\" class=\"dataframe\">\n",
       "  <thead>\n",
       "    <tr style=\"text-align: right;\">\n",
       "      <th></th>\n",
       "      <th>Unnamed: 0</th>\n",
       "      <th>Unnamed: 0.1</th>\n",
       "      <th>address</th>\n",
       "      <th>attributes</th>\n",
       "      <th>business_id</th>\n",
       "      <th>categories</th>\n",
       "      <th>city</th>\n",
       "      <th>hours</th>\n",
       "      <th>is_open</th>\n",
       "      <th>latitude</th>\n",
       "      <th>...</th>\n",
       "      <th>funny</th>\n",
       "      <th>review_id</th>\n",
       "      <th>review_stars</th>\n",
       "      <th>text</th>\n",
       "      <th>useful</th>\n",
       "      <th>user_id</th>\n",
       "      <th>RestaurantsPriceRange</th>\n",
       "      <th>tokenize</th>\n",
       "      <th>sentence</th>\n",
       "      <th>polarity</th>\n",
       "    </tr>\n",
       "  </thead>\n",
       "  <tbody>\n",
       "    <tr>\n",
       "      <th>0</th>\n",
       "      <td>226868</td>\n",
       "      <td>757880</td>\n",
       "      <td>921 N Buffalo Dr</td>\n",
       "      <td>{'NoiseLevel': \"u'average'\", 'RestaurantsAttir...</td>\n",
       "      <td>cWfqbkMit27-Pg_bPUTwCg</td>\n",
       "      <td>Nightlife, Restaurants, American (Traditional)...</td>\n",
       "      <td>Las Vegas</td>\n",
       "      <td>NaN</td>\n",
       "      <td>1</td>\n",
       "      <td>36.182244</td>\n",
       "      <td>...</td>\n",
       "      <td>1</td>\n",
       "      <td>v7jLgsmYo9J-Cd1vn-yMnw</td>\n",
       "      <td>5</td>\n",
       "      <td>Did you see the BEAUTIFUL BLONDE'S that are Ba...</td>\n",
       "      <td>1</td>\n",
       "      <td>qxMpivZxjSVMV633w5elHQ</td>\n",
       "      <td>0</td>\n",
       "      <td>[Did you see the BEAUTIFUL BLONDE'S that are B...</td>\n",
       "      <td>Did you see the BEAUTIFUL BLONDE'S that are Ba...</td>\n",
       "      <td>0</td>\n",
       "    </tr>\n",
       "    <tr>\n",
       "      <th>1</th>\n",
       "      <td>226868</td>\n",
       "      <td>757880</td>\n",
       "      <td>921 N Buffalo Dr</td>\n",
       "      <td>{'NoiseLevel': \"u'average'\", 'RestaurantsAttir...</td>\n",
       "      <td>cWfqbkMit27-Pg_bPUTwCg</td>\n",
       "      <td>Nightlife, Restaurants, American (Traditional)...</td>\n",
       "      <td>Las Vegas</td>\n",
       "      <td>NaN</td>\n",
       "      <td>1</td>\n",
       "      <td>36.182244</td>\n",
       "      <td>...</td>\n",
       "      <td>1</td>\n",
       "      <td>v7jLgsmYo9J-Cd1vn-yMnw</td>\n",
       "      <td>5</td>\n",
       "      <td>Did you see the BEAUTIFUL BLONDE'S that are Ba...</td>\n",
       "      <td>1</td>\n",
       "      <td>qxMpivZxjSVMV633w5elHQ</td>\n",
       "      <td>0</td>\n",
       "      <td>[Did you see the BEAUTIFUL BLONDE'S that are B...</td>\n",
       "      <td>OMG.</td>\n",
       "      <td>0</td>\n",
       "    </tr>\n",
       "    <tr>\n",
       "      <th>2</th>\n",
       "      <td>226868</td>\n",
       "      <td>757880</td>\n",
       "      <td>921 N Buffalo Dr</td>\n",
       "      <td>{'NoiseLevel': \"u'average'\", 'RestaurantsAttir...</td>\n",
       "      <td>cWfqbkMit27-Pg_bPUTwCg</td>\n",
       "      <td>Nightlife, Restaurants, American (Traditional)...</td>\n",
       "      <td>Las Vegas</td>\n",
       "      <td>NaN</td>\n",
       "      <td>1</td>\n",
       "      <td>36.182244</td>\n",
       "      <td>...</td>\n",
       "      <td>1</td>\n",
       "      <td>v7jLgsmYo9J-Cd1vn-yMnw</td>\n",
       "      <td>5</td>\n",
       "      <td>Did you see the BEAUTIFUL BLONDE'S that are Ba...</td>\n",
       "      <td>1</td>\n",
       "      <td>qxMpivZxjSVMV633w5elHQ</td>\n",
       "      <td>0</td>\n",
       "      <td>[Did you see the BEAUTIFUL BLONDE'S that are B...</td>\n",
       "      <td>This place is Great.</td>\n",
       "      <td>0</td>\n",
       "    </tr>\n",
       "    <tr>\n",
       "      <th>3</th>\n",
       "      <td>226868</td>\n",
       "      <td>757880</td>\n",
       "      <td>921 N Buffalo Dr</td>\n",
       "      <td>{'NoiseLevel': \"u'average'\", 'RestaurantsAttir...</td>\n",
       "      <td>cWfqbkMit27-Pg_bPUTwCg</td>\n",
       "      <td>Nightlife, Restaurants, American (Traditional)...</td>\n",
       "      <td>Las Vegas</td>\n",
       "      <td>NaN</td>\n",
       "      <td>1</td>\n",
       "      <td>36.182244</td>\n",
       "      <td>...</td>\n",
       "      <td>1</td>\n",
       "      <td>v7jLgsmYo9J-Cd1vn-yMnw</td>\n",
       "      <td>5</td>\n",
       "      <td>Did you see the BEAUTIFUL BLONDE'S that are Ba...</td>\n",
       "      <td>1</td>\n",
       "      <td>qxMpivZxjSVMV633w5elHQ</td>\n",
       "      <td>0</td>\n",
       "      <td>[Did you see the BEAUTIFUL BLONDE'S that are B...</td>\n",
       "      <td>Really good Food.</td>\n",
       "      <td>0</td>\n",
       "    </tr>\n",
       "    <tr>\n",
       "      <th>4</th>\n",
       "      <td>226868</td>\n",
       "      <td>757880</td>\n",
       "      <td>921 N Buffalo Dr</td>\n",
       "      <td>{'NoiseLevel': \"u'average'\", 'RestaurantsAttir...</td>\n",
       "      <td>cWfqbkMit27-Pg_bPUTwCg</td>\n",
       "      <td>Nightlife, Restaurants, American (Traditional)...</td>\n",
       "      <td>Las Vegas</td>\n",
       "      <td>NaN</td>\n",
       "      <td>1</td>\n",
       "      <td>36.182244</td>\n",
       "      <td>...</td>\n",
       "      <td>1</td>\n",
       "      <td>v7jLgsmYo9J-Cd1vn-yMnw</td>\n",
       "      <td>5</td>\n",
       "      <td>Did you see the BEAUTIFUL BLONDE'S that are Ba...</td>\n",
       "      <td>1</td>\n",
       "      <td>qxMpivZxjSVMV633w5elHQ</td>\n",
       "      <td>0</td>\n",
       "      <td>[Did you see the BEAUTIFUL BLONDE'S that are B...</td>\n",
       "      <td>Tip well its worth it.</td>\n",
       "      <td>0</td>\n",
       "    </tr>\n",
       "  </tbody>\n",
       "</table>\n",
       "<p>5 rows × 28 columns</p>\n",
       "</div>"
      ],
      "text/plain": [
       "   Unnamed: 0  Unnamed: 0.1           address  \\\n",
       "0      226868        757880  921 N Buffalo Dr   \n",
       "1      226868        757880  921 N Buffalo Dr   \n",
       "2      226868        757880  921 N Buffalo Dr   \n",
       "3      226868        757880  921 N Buffalo Dr   \n",
       "4      226868        757880  921 N Buffalo Dr   \n",
       "\n",
       "                                          attributes             business_id  \\\n",
       "0  {'NoiseLevel': \"u'average'\", 'RestaurantsAttir...  cWfqbkMit27-Pg_bPUTwCg   \n",
       "1  {'NoiseLevel': \"u'average'\", 'RestaurantsAttir...  cWfqbkMit27-Pg_bPUTwCg   \n",
       "2  {'NoiseLevel': \"u'average'\", 'RestaurantsAttir...  cWfqbkMit27-Pg_bPUTwCg   \n",
       "3  {'NoiseLevel': \"u'average'\", 'RestaurantsAttir...  cWfqbkMit27-Pg_bPUTwCg   \n",
       "4  {'NoiseLevel': \"u'average'\", 'RestaurantsAttir...  cWfqbkMit27-Pg_bPUTwCg   \n",
       "\n",
       "                                          categories       city hours  \\\n",
       "0  Nightlife, Restaurants, American (Traditional)...  Las Vegas   NaN   \n",
       "1  Nightlife, Restaurants, American (Traditional)...  Las Vegas   NaN   \n",
       "2  Nightlife, Restaurants, American (Traditional)...  Las Vegas   NaN   \n",
       "3  Nightlife, Restaurants, American (Traditional)...  Las Vegas   NaN   \n",
       "4  Nightlife, Restaurants, American (Traditional)...  Las Vegas   NaN   \n",
       "\n",
       "   is_open   latitude  ...  funny               review_id  review_stars  \\\n",
       "0        1  36.182244  ...      1  v7jLgsmYo9J-Cd1vn-yMnw             5   \n",
       "1        1  36.182244  ...      1  v7jLgsmYo9J-Cd1vn-yMnw             5   \n",
       "2        1  36.182244  ...      1  v7jLgsmYo9J-Cd1vn-yMnw             5   \n",
       "3        1  36.182244  ...      1  v7jLgsmYo9J-Cd1vn-yMnw             5   \n",
       "4        1  36.182244  ...      1  v7jLgsmYo9J-Cd1vn-yMnw             5   \n",
       "\n",
       "                                                text  useful  \\\n",
       "0  Did you see the BEAUTIFUL BLONDE'S that are Ba...       1   \n",
       "1  Did you see the BEAUTIFUL BLONDE'S that are Ba...       1   \n",
       "2  Did you see the BEAUTIFUL BLONDE'S that are Ba...       1   \n",
       "3  Did you see the BEAUTIFUL BLONDE'S that are Ba...       1   \n",
       "4  Did you see the BEAUTIFUL BLONDE'S that are Ba...       1   \n",
       "\n",
       "                  user_id  RestaurantsPriceRange  \\\n",
       "0  qxMpivZxjSVMV633w5elHQ                      0   \n",
       "1  qxMpivZxjSVMV633w5elHQ                      0   \n",
       "2  qxMpivZxjSVMV633w5elHQ                      0   \n",
       "3  qxMpivZxjSVMV633w5elHQ                      0   \n",
       "4  qxMpivZxjSVMV633w5elHQ                      0   \n",
       "\n",
       "                                            tokenize  \\\n",
       "0  [Did you see the BEAUTIFUL BLONDE'S that are B...   \n",
       "1  [Did you see the BEAUTIFUL BLONDE'S that are B...   \n",
       "2  [Did you see the BEAUTIFUL BLONDE'S that are B...   \n",
       "3  [Did you see the BEAUTIFUL BLONDE'S that are B...   \n",
       "4  [Did you see the BEAUTIFUL BLONDE'S that are B...   \n",
       "\n",
       "                                            sentence polarity  \n",
       "0  Did you see the BEAUTIFUL BLONDE'S that are Ba...        0  \n",
       "1                                               OMG.        0  \n",
       "2                               This place is Great.        0  \n",
       "3                                  Really good Food.        0  \n",
       "4                             Tip well its worth it.        0  \n",
       "\n",
       "[5 rows x 28 columns]"
      ]
     },
     "execution_count": 101,
     "metadata": {},
     "output_type": "execute_result"
    }
   ],
   "source": [
    "las_vegas_tokenize.head()"
   ]
  },
  {
   "cell_type": "markdown",
   "metadata": {},
   "source": [
    "### LDA Topics"
   ]
  },
  {
   "cell_type": "code",
   "execution_count": 102,
   "metadata": {},
   "outputs": [],
   "source": [
    "def sent_to_words(sentences):\n",
    "    for sentence in sentences:\n",
    "        yield(gensim.utils.simple_preprocess(str(sentence), deacc = True)) \n",
    "sentence_list = las_vegas_tokenize.sentence.values.tolist()\n",
    "word_list = list(sent_to_words(sentence_list))"
   ]
  },
  {
   "cell_type": "code",
   "execution_count": 103,
   "metadata": {},
   "outputs": [],
   "source": [
    "stop_words = list(stopwords.words(\"english\"))\n",
    "def remove_stopwords(reviews):\n",
    "    return [[word for word in simple_preprocess(str(doc)) if word not in stop_words] for doc in reviews]"
   ]
  },
  {
   "cell_type": "code",
   "execution_count": 104,
   "metadata": {},
   "outputs": [],
   "source": [
    "re_stop = remove_stopwords(word_list)"
   ]
  },
  {
   "cell_type": "code",
   "execution_count": 105,
   "metadata": {},
   "outputs": [],
   "source": [
    "count_vectorizer = CountVectorizer(stop_words='english')\n",
    "count_data = count_vectorizer.fit_transform(las_vegas_tokenize['sentence'])"
   ]
  },
  {
   "cell_type": "code",
   "execution_count": 106,
   "metadata": {},
   "outputs": [],
   "source": [
    "def lda_topics(model, count_vectorizer, number_words):\n",
    "    words = count_vectorizer.get_feature_names()\n",
    "    for topic_idx, topic in enumerate(model.components_):\n",
    "        print(\"\\nTopic #%d:\" % topic_idx)\n",
    "        print(\" \".join([words[i]\n",
    "                        for i in topic.argsort()[:-number_words - 1:-1]]))"
   ]
  },
  {
   "cell_type": "markdown",
   "metadata": {},
   "source": [
    "### A simple LDA model"
   ]
  },
  {
   "cell_type": "code",
   "execution_count": 107,
   "metadata": {},
   "outputs": [
    {
     "name": "stdout",
     "output_type": "stream",
     "text": [
      "Topic #0:\n",
      "food did blonde beautiful great place omg worth tip really\n",
      "\n",
      "Topic #1:\n",
      "really good food omg worth tip place great did service\n",
      "\n",
      "Topic #2:\n",
      "place great omg worth nice did worth beautiful bartenders really\n",
      "\n",
      "Topic #3:\n",
      "friends creme room meat overrated really small actually went go\n",
      "\n",
      "Topic #4:\n",
      "nice dining place server time better menu went place\n"
     ]
    }
   ],
   "source": [
    "lda = LDA(n_components=5, n_jobs=-1)\n",
    "lda.fit(count_data)\n",
    "\n",
    "lda_topics(lda, count_vectorizer, 10)"
   ]
  },
  {
   "cell_type": "code",
   "execution_count": 109,
   "metadata": {},
   "outputs": [],
   "source": [
    "cv = tmtoolkit.topicmod.evaluate.metric_coherence_gensim(measure='c_v', \n",
    "                                                         top_n=10, \n",
    "                                                         topic_word_distrib=lda.components_, \n",
    "                                                         vocab=np.array([x for x in count_vectorizer.vocabulary_.keys()]), \n",
    "                                                         texts=re_stop)"
   ]
  },
  {
   "cell_type": "code",
   "execution_count": 110,
   "metadata": {},
   "outputs": [
    {
     "name": "stdout",
     "output_type": "stream",
     "text": [
      "\n",
      "Coherence Score:  0.3039197795072706\n"
     ]
    }
   ],
   "source": [
    "print('\\nCoherence Score: ', mean([a_ for a_ in cv if a_ == a_]))"
   ]
  },
  {
   "cell_type": "markdown",
   "metadata": {},
   "source": [
    "### LDA Evaluation"
   ]
  },
  {
   "cell_type": "code",
   "execution_count": 111,
   "metadata": {},
   "outputs": [],
   "source": [
    "def evaluate_lda(k, a, b):\n",
    "    \n",
    "    lda = LDA(n_components=k, n_jobs=-1, doc_topic_prior=a, topic_word_prior=b)\n",
    "    lda.fit(count_data)\n",
    "    cv = tmtoolkit.topicmod.evaluate.metric_coherence_gensim(measure='c_v', \n",
    "                                                             top_n=10, \n",
    "                                                             topic_word_distrib=lda.components_, \n",
    "                                                             vocab=np.array([x for x in count_vectorizer.vocabulary_.keys()]), \n",
    "                                                             texts=re_stop)\n",
    "    \n",
    "    return mean([a_ for a_ in cv if a_ == a_])"
   ]
  },
  {
   "cell_type": "code",
   "execution_count": 112,
   "metadata": {},
   "outputs": [],
   "source": [
    "topics = range(2, 15, 1)\n",
    "alpha = list(np.arange(0.01, 1, 0.3))\n",
    "beta = list(np.arange(0.01, 1, 0.3))\n",
    "lda_results = {'Topics': [],\n",
    "                 'Alpha': [],\n",
    "                 'Beta': [],\n",
    "                 'Coherence': []}\n",
    "for k in topics:\n",
    "    for a in alpha:\n",
    "        for b in beta:\n",
    "            cv = evaluate_lda(k=k, a=a, b=b)\n",
    "            lda_results['Topics'].append(k)\n",
    "            lda_results['Alpha'].append(a)\n",
    "            lda_results['Beta'].append(b)\n",
    "            lda_results['Coherence'].append(cv)                 \n",
    "df_cv = pd.DataFrame(lda_results)"
   ]
  },
  {
   "cell_type": "code",
   "execution_count": 113,
   "metadata": {},
   "outputs": [
    {
     "data": {
      "text/html": [
       "<div>\n",
       "<style scoped>\n",
       "    .dataframe tbody tr th:only-of-type {\n",
       "        vertical-align: middle;\n",
       "    }\n",
       "\n",
       "    .dataframe tbody tr th {\n",
       "        vertical-align: top;\n",
       "    }\n",
       "\n",
       "    .dataframe thead th {\n",
       "        text-align: right;\n",
       "    }\n",
       "</style>\n",
       "<table border=\"1\" class=\"dataframe\">\n",
       "  <thead>\n",
       "    <tr style=\"text-align: right;\">\n",
       "      <th></th>\n",
       "      <th>Topics</th>\n",
       "      <th>Alpha</th>\n",
       "      <th>Beta</th>\n",
       "      <th>Coherence</th>\n",
       "    </tr>\n",
       "  </thead>\n",
       "  <tbody>\n",
       "    <tr>\n",
       "      <th>131</th>\n",
       "      <td>10</td>\n",
       "      <td>0.01</td>\n",
       "      <td>0.91</td>\n",
       "      <td>0.348003</td>\n",
       "    </tr>\n",
       "    <tr>\n",
       "      <th>135</th>\n",
       "      <td>10</td>\n",
       "      <td>0.31</td>\n",
       "      <td>0.91</td>\n",
       "      <td>0.345971</td>\n",
       "    </tr>\n",
       "    <tr>\n",
       "      <th>139</th>\n",
       "      <td>10</td>\n",
       "      <td>0.61</td>\n",
       "      <td>0.91</td>\n",
       "      <td>0.342932</td>\n",
       "    </tr>\n",
       "    <tr>\n",
       "      <th>129</th>\n",
       "      <td>10</td>\n",
       "      <td>0.01</td>\n",
       "      <td>0.31</td>\n",
       "      <td>0.339691</td>\n",
       "    </tr>\n",
       "    <tr>\n",
       "      <th>134</th>\n",
       "      <td>10</td>\n",
       "      <td>0.31</td>\n",
       "      <td>0.61</td>\n",
       "      <td>0.336522</td>\n",
       "    </tr>\n",
       "    <tr>\n",
       "      <th>138</th>\n",
       "      <td>10</td>\n",
       "      <td>0.61</td>\n",
       "      <td>0.61</td>\n",
       "      <td>0.332967</td>\n",
       "    </tr>\n",
       "  </tbody>\n",
       "</table>\n",
       "</div>"
      ],
      "text/plain": [
       "    Topics  Alpha  Beta Coherence\n",
       "131     10   0.01  0.91  0.348003\n",
       "135     10   0.31  0.91  0.345971\n",
       "139     10   0.61  0.91  0.342932\n",
       "129     10   0.01  0.31  0.339691\n",
       "134     10   0.31  0.61  0.336522\n",
       "138     10   0.61  0.61  0.332967"
      ]
     },
     "execution_count": 113,
     "metadata": {},
     "output_type": "execute_result"
    }
   ],
   "source": [
    "df_cv.sort_values(by='Coherence', ascending=False).head()"
   ]
  },
  {
   "cell_type": "markdown",
   "metadata": {},
   "source": [
    "#### The best LDA model with 10 topics, alpha 0.01, beta 0.91, has the highest coherence 0.348."
   ]
  },
  {
   "cell_type": "markdown",
   "metadata": {},
   "source": [
    "### Best LDA Topics and Top 10 Words"
   ]
  },
  {
   "cell_type": "code",
   "execution_count": 114,
   "metadata": {
    "scrolled": false
   },
   "outputs": [
    {
     "name": "stdout",
     "output_type": "stream",
     "text": [
      "Topic #0:\n",
      "food like burger cheese delicious nice restaurant said bread would\n",
      "\n",
      "Topic #1:\n",
      "great service place table wait love thing just prepared attentive\n",
      "\n",
      "Topic #2:\n",
      "good tasting wait go meal flavour vegas fresh really spicy\n",
      "\n",
      "Topic #3:\n",
      "amazing dinner chicken night come wife really expensive went day\n",
      "\n",
      "Topic #4:\n",
      "good staff menu service friendly got would chef better place\n",
      "\n",
      "Topic #5:\n",
      "did get wine fruit drink bar like water try cocktails\n",
      "\n",
      "Topic #6:\n",
      "taste great pretty dish quality ordered highly just worth got\n",
      "\n",
      "Topic #7:\n",
      "nice best experience well enjoy unique excellent meal long reservation\n",
      "\n",
      "Topic #8:\n",
      "pretty flavor star fried only alcoholic worth something go grilled\n",
      "\n",
      "Topic #9:\n",
      "happy nice expect differ atmosphere recommend hot ambiance got absolutely\n"
     ]
    }
   ],
   "source": [
    "lda = LDA(n_components=10, n_jobs=-1, doc_topic_prior=0.01, topic_word_prior=0.91)\n",
    "lda.fit(count_data)\n",
    "\n",
    "lda_topics(lda, count_vectorizer, 10)"
   ]
  },
  {
   "cell_type": "markdown",
   "metadata": {},
   "source": [
    "### LDA weights"
   ]
  },
  {
   "cell_type": "code",
   "execution_count": 117,
   "metadata": {},
   "outputs": [],
   "source": [
    "LDA_cols = ['LDA_' + str(i) for i in range(1, 11)]\n",
    "LDA_weight = pd.DataFrame(lda.transform(count_data), columns = LDA_cols)"
   ]
  },
  {
   "cell_type": "code",
   "execution_count": 118,
   "metadata": {},
   "outputs": [],
   "source": [
    "data = las_vegas_tokenize.join(LDA_weight)"
   ]
  },
  {
   "cell_type": "code",
   "execution_count": 119,
   "metadata": {},
   "outputs": [
    {
     "data": {
      "text/html": [
       "<div>\n",
       "<style scoped>\n",
       "    .dataframe tbody tr th:only-of-type {\n",
       "        vertical-align: middle;\n",
       "    }\n",
       "\n",
       "    .dataframe tbody tr th {\n",
       "        vertical-align: top;\n",
       "    }\n",
       "\n",
       "    .dataframe thead th {\n",
       "        text-align: right;\n",
       "    }\n",
       "</style>\n",
       "<table border=\"1\" class=\"dataframe\">\n",
       "  <thead>\n",
       "    <tr style=\"text-align: right;\">\n",
       "      <th></th>\n",
       "      <th>Unnamed: 0</th>\n",
       "      <th>Unnamed: 0.1</th>\n",
       "      <th>address</th>\n",
       "      <th>attributes</th>\n",
       "      <th>business_id</th>\n",
       "      <th>categories</th>\n",
       "      <th>city</th>\n",
       "      <th>hours</th>\n",
       "      <th>is_open</th>\n",
       "      <th>latitude</th>\n",
       "      <th>...</th>\n",
       "      <th>LDA_1</th>\n",
       "      <th>LDA_2</th>\n",
       "      <th>LDA_3</th>\n",
       "      <th>LDA_4</th>\n",
       "      <th>LDA_5</th>\n",
       "      <th>LDA_6</th>\n",
       "      <th>LDA_7</th>\n",
       "      <th>LDA_8</th>\n",
       "      <th>LDA_9</th>\n",
       "      <th>LDA_10</th>\n",
       "    </tr>\n",
       "  </thead>\n",
       "  <tbody>\n",
       "    <tr>\n",
       "      <th>0</th>\n",
       "      <td>226868</td>\n",
       "      <td>757880</td>\n",
       "      <td>921 N Buffalo Dr</td>\n",
       "      <td>{'NoiseLevel': \"u'average'\", 'RestaurantsAttir...</td>\n",
       "      <td>cWfqbkMit27-Pg_bPUTwCg</td>\n",
       "      <td>Nightlife, Restaurants, American (Traditional)...</td>\n",
       "      <td>Las Vegas</td>\n",
       "      <td>NaN</td>\n",
       "      <td>1</td>\n",
       "      <td>36.182244</td>\n",
       "      <td>...</td>\n",
       "      <td>0.002439</td>\n",
       "      <td>0.002439</td>\n",
       "      <td>0.002439</td>\n",
       "      <td>0.002439</td>\n",
       "      <td>0.002439</td>\n",
       "      <td>0.002439</td>\n",
       "      <td>0.002439</td>\n",
       "      <td>0.978049</td>\n",
       "      <td>0.002439</td>\n",
       "      <td>0.002439</td>\n",
       "    </tr>\n",
       "    <tr>\n",
       "      <th>1</th>\n",
       "      <td>226868</td>\n",
       "      <td>757880</td>\n",
       "      <td>921 N Buffalo Dr</td>\n",
       "      <td>{'NoiseLevel': \"u'average'\", 'RestaurantsAttir...</td>\n",
       "      <td>cWfqbkMit27-Pg_bPUTwCg</td>\n",
       "      <td>Nightlife, Restaurants, American (Traditional)...</td>\n",
       "      <td>Las Vegas</td>\n",
       "      <td>NaN</td>\n",
       "      <td>1</td>\n",
       "      <td>36.182244</td>\n",
       "      <td>...</td>\n",
       "      <td>0.009091</td>\n",
       "      <td>0.009091</td>\n",
       "      <td>0.009091</td>\n",
       "      <td>0.918182</td>\n",
       "      <td>0.009091</td>\n",
       "      <td>0.009091</td>\n",
       "      <td>0.009091</td>\n",
       "      <td>0.009091</td>\n",
       "      <td>0.009091</td>\n",
       "      <td>0.009091</td>\n",
       "    </tr>\n",
       "    <tr>\n",
       "      <th>2</th>\n",
       "      <td>226868</td>\n",
       "      <td>757880</td>\n",
       "      <td>921 N Buffalo Dr</td>\n",
       "      <td>{'NoiseLevel': \"u'average'\", 'RestaurantsAttir...</td>\n",
       "      <td>cWfqbkMit27-Pg_bPUTwCg</td>\n",
       "      <td>Nightlife, Restaurants, American (Traditional)...</td>\n",
       "      <td>Las Vegas</td>\n",
       "      <td>NaN</td>\n",
       "      <td>1</td>\n",
       "      <td>36.182244</td>\n",
       "      <td>...</td>\n",
       "      <td>0.004762</td>\n",
       "      <td>0.957143</td>\n",
       "      <td>0.004762</td>\n",
       "      <td>0.004762</td>\n",
       "      <td>0.004762</td>\n",
       "      <td>0.004762</td>\n",
       "      <td>0.004762</td>\n",
       "      <td>0.004762</td>\n",
       "      <td>0.004762</td>\n",
       "      <td>0.004762</td>\n",
       "    </tr>\n",
       "    <tr>\n",
       "      <th>3</th>\n",
       "      <td>226868</td>\n",
       "      <td>757880</td>\n",
       "      <td>921 N Buffalo Dr</td>\n",
       "      <td>{'NoiseLevel': \"u'average'\", 'RestaurantsAttir...</td>\n",
       "      <td>cWfqbkMit27-Pg_bPUTwCg</td>\n",
       "      <td>Nightlife, Restaurants, American (Traditional)...</td>\n",
       "      <td>Las Vegas</td>\n",
       "      <td>NaN</td>\n",
       "      <td>1</td>\n",
       "      <td>36.182244</td>\n",
       "      <td>...</td>\n",
       "      <td>0.003226</td>\n",
       "      <td>0.003226</td>\n",
       "      <td>0.003226</td>\n",
       "      <td>0.003226</td>\n",
       "      <td>0.003226</td>\n",
       "      <td>0.003226</td>\n",
       "      <td>0.970968</td>\n",
       "      <td>0.003226</td>\n",
       "      <td>0.003226</td>\n",
       "      <td>0.003226</td>\n",
       "    </tr>\n",
       "    <tr>\n",
       "      <th>4</th>\n",
       "      <td>226868</td>\n",
       "      <td>757880</td>\n",
       "      <td>921 N Buffalo Dr</td>\n",
       "      <td>{'NoiseLevel': \"u'average'\", 'RestaurantsAttir...</td>\n",
       "      <td>cWfqbkMit27-Pg_bPUTwCg</td>\n",
       "      <td>Nightlife, Restaurants, American (Traditional)...</td>\n",
       "      <td>Las Vegas</td>\n",
       "      <td>NaN</td>\n",
       "      <td>1</td>\n",
       "      <td>36.182244</td>\n",
       "      <td>...</td>\n",
       "      <td>0.004762</td>\n",
       "      <td>0.004762</td>\n",
       "      <td>0.957143</td>\n",
       "      <td>0.004762</td>\n",
       "      <td>0.004762</td>\n",
       "      <td>0.004762</td>\n",
       "      <td>0.004762</td>\n",
       "      <td>0.004762</td>\n",
       "      <td>0.004762</td>\n",
       "      <td>0.004762</td>\n",
       "    </tr>\n",
       "  </tbody>\n",
       "</table>\n",
       "<p>5 rows × 38 columns</p>\n",
       "</div>"
      ],
      "text/plain": [
       "   Unnamed: 0  Unnamed: 0.1           address  \\\n",
       "0      226868        757880  921 N Buffalo Dr   \n",
       "1      226868        757880  921 N Buffalo Dr   \n",
       "2      226868        757880  921 N Buffalo Dr   \n",
       "3      226868        757880  921 N Buffalo Dr   \n",
       "4      226868        757880  921 N Buffalo Dr   \n",
       "\n",
       "                                          attributes             business_id  \\\n",
       "0  {'NoiseLevel': \"u'average'\", 'RestaurantsAttir...  cWfqbkMit27-Pg_bPUTwCg   \n",
       "1  {'NoiseLevel': \"u'average'\", 'RestaurantsAttir...  cWfqbkMit27-Pg_bPUTwCg   \n",
       "2  {'NoiseLevel': \"u'average'\", 'RestaurantsAttir...  cWfqbkMit27-Pg_bPUTwCg   \n",
       "3  {'NoiseLevel': \"u'average'\", 'RestaurantsAttir...  cWfqbkMit27-Pg_bPUTwCg   \n",
       "4  {'NoiseLevel': \"u'average'\", 'RestaurantsAttir...  cWfqbkMit27-Pg_bPUTwCg   \n",
       "\n",
       "                                          categories       city hours  \\\n",
       "0  Nightlife, Restaurants, American (Traditional)...  Las Vegas   NaN   \n",
       "1  Nightlife, Restaurants, American (Traditional)...  Las Vegas   NaN   \n",
       "2  Nightlife, Restaurants, American (Traditional)...  Las Vegas   NaN   \n",
       "3  Nightlife, Restaurants, American (Traditional)...  Las Vegas   NaN   \n",
       "4  Nightlife, Restaurants, American (Traditional)...  Las Vegas   NaN   \n",
       "\n",
       "   is_open   latitude  ...     LDA_1     LDA_2     LDA_3     LDA_4     LDA_5  \\\n",
       "0        1  36.182244  ...  0.002439  0.002439  0.002439  0.002439  0.002439   \n",
       "1        1  36.182244  ...  0.009091  0.009091  0.009091  0.918182  0.009091   \n",
       "2        1  36.182244  ...  0.004762  0.957143  0.004762  0.004762  0.004762   \n",
       "3        1  36.182244  ...  0.003226  0.003226  0.003226  0.003226  0.003226   \n",
       "4        1  36.182244  ...  0.004762  0.004762  0.957143  0.004762  0.004762   \n",
       "\n",
       "      LDA_6     LDA_7     LDA_8     LDA_9    LDA_10  \n",
       "0  0.002439  0.002439  0.978049  0.002439  0.002439  \n",
       "1  0.009091  0.009091  0.009091  0.009091  0.009091  \n",
       "2  0.004762  0.004762  0.004762  0.004762  0.004762  \n",
       "3  0.003226  0.970968  0.003226  0.003226  0.003226  \n",
       "4  0.004762  0.004762  0.004762  0.004762  0.004762  \n",
       "\n",
       "[5 rows x 38 columns]"
      ]
     },
     "execution_count": 119,
     "metadata": {},
     "output_type": "execute_result"
    }
   ],
   "source": [
    "data.head()"
   ]
  },
  {
   "cell_type": "code",
   "execution_count": 2,
   "metadata": {},
   "outputs": [],
   "source": [
    "data = data.drop(columns=['user_id', 'Unnamed: 0','Unnamed: 0.1', 'address', 'attributes', 'business_id',\n",
    "       'categories', 'city', 'hours', 'is_open', 'latitude', 'longitude',\n",
    "       'name', 'postal_code', 'state',  'date',\n",
    "        'review_id', 'stars', 'text', 'sentence','cool', 'funny','useful'])"
   ]
  },
  {
   "cell_type": "code",
   "execution_count": 4,
   "metadata": {
    "scrolled": true
   },
   "outputs": [
    {
     "data": {
      "text/html": [
       "<div>\n",
       "<style scoped>\n",
       "    .dataframe tbody tr th:only-of-type {\n",
       "        vertical-align: middle;\n",
       "    }\n",
       "\n",
       "    .dataframe tbody tr th {\n",
       "        vertical-align: top;\n",
       "    }\n",
       "\n",
       "    .dataframe thead th {\n",
       "        text-align: right;\n",
       "    }\n",
       "</style>\n",
       "<table border=\"1\" class=\"dataframe\">\n",
       "  <thead>\n",
       "    <tr style=\"text-align: right;\">\n",
       "      <th></th>\n",
       "      <th>review_stars</th>\n",
       "      <th>RestaurantsPriceRange</th>\n",
       "      <th>LDA_1</th>\n",
       "      <th>LDA_2</th>\n",
       "      <th>LDA_3</th>\n",
       "      <th>LDA_4</th>\n",
       "      <th>LDA_5</th>\n",
       "      <th>LDA_6</th>\n",
       "      <th>LDA_7</th>\n",
       "      <th>LDA_8</th>\n",
       "      <th>LDA_9</th>\n",
       "      <th>LDA_10</th>\n",
       "      <th>polarity</th>\n",
       "    </tr>\n",
       "  </thead>\n",
       "  <tbody>\n",
       "    <tr>\n",
       "      <th>0</th>\n",
       "      <td>4.0</td>\n",
       "      <td>0</td>\n",
       "      <td>0.119005</td>\n",
       "      <td>0.119661</td>\n",
       "      <td>0.119034</td>\n",
       "      <td>0.074797</td>\n",
       "      <td>0.059627</td>\n",
       "      <td>0.087034</td>\n",
       "      <td>0.098462</td>\n",
       "      <td>0.115522</td>\n",
       "      <td>0.092006</td>\n",
       "      <td>0.114851</td>\n",
       "      <td>0.174733</td>\n",
       "    </tr>\n",
       "    <tr>\n",
       "      <th>1</th>\n",
       "      <td>4.0</td>\n",
       "      <td>1</td>\n",
       "      <td>0.140470</td>\n",
       "      <td>0.078919</td>\n",
       "      <td>0.117682</td>\n",
       "      <td>0.080228</td>\n",
       "      <td>0.050698</td>\n",
       "      <td>0.137078</td>\n",
       "      <td>0.077352</td>\n",
       "      <td>0.093734</td>\n",
       "      <td>0.086634</td>\n",
       "      <td>0.137205</td>\n",
       "      <td>0.093752</td>\n",
       "    </tr>\n",
       "    <tr>\n",
       "      <th>2</th>\n",
       "      <td>4.0</td>\n",
       "      <td>0</td>\n",
       "      <td>0.090066</td>\n",
       "      <td>0.072611</td>\n",
       "      <td>0.109210</td>\n",
       "      <td>0.035707</td>\n",
       "      <td>0.079369</td>\n",
       "      <td>0.158485</td>\n",
       "      <td>0.079768</td>\n",
       "      <td>0.084985</td>\n",
       "      <td>0.149048</td>\n",
       "      <td>0.140752</td>\n",
       "      <td>0.269667</td>\n",
       "    </tr>\n",
       "    <tr>\n",
       "      <th>3</th>\n",
       "      <td>2.5</td>\n",
       "      <td>0</td>\n",
       "      <td>0.185746</td>\n",
       "      <td>0.032667</td>\n",
       "      <td>0.079737</td>\n",
       "      <td>0.081910</td>\n",
       "      <td>0.086758</td>\n",
       "      <td>0.069335</td>\n",
       "      <td>0.178575</td>\n",
       "      <td>0.101021</td>\n",
       "      <td>0.074919</td>\n",
       "      <td>0.109333</td>\n",
       "      <td>-0.004534</td>\n",
       "    </tr>\n",
       "    <tr>\n",
       "      <th>4</th>\n",
       "      <td>3.0</td>\n",
       "      <td>0</td>\n",
       "      <td>0.113157</td>\n",
       "      <td>0.027821</td>\n",
       "      <td>0.075322</td>\n",
       "      <td>0.195777</td>\n",
       "      <td>0.124964</td>\n",
       "      <td>0.035321</td>\n",
       "      <td>0.102235</td>\n",
       "      <td>0.128210</td>\n",
       "      <td>0.124250</td>\n",
       "      <td>0.072940</td>\n",
       "      <td>0.419861</td>\n",
       "    </tr>\n",
       "  </tbody>\n",
       "</table>\n",
       "</div>"
      ],
      "text/plain": [
       "  review_stars  RestaurantsPriceRange     LDA_1     LDA_2     LDA_3     LDA_4  \\\n",
       "0          4.0                      0  0.119005  0.119661  0.119034  0.074797   \n",
       "1          4.0                      1  0.140470  0.078919  0.117682  0.080228   \n",
       "2          4.0                      0  0.090066  0.072611  0.109210  0.035707   \n",
       "3          2.5                      0  0.185746  0.032667  0.079737  0.081910   \n",
       "4          3.0                      0  0.113157  0.027821  0.075322  0.195777   \n",
       "\n",
       "      LDA_5     LDA_6     LDA_7     LDA_8     LDA_9    LDA_10   polarity  \n",
       "0  0.059627  0.087034  0.098462  0.115522  0.092006  0.114851   0.174733  \n",
       "1  0.050698  0.137078  0.077352  0.093734  0.086634  0.137205   0.093752  \n",
       "2  0.079369  0.158485  0.079768  0.084985  0.149048  0.140752   0.269667  \n",
       "3  0.086758  0.069335  0.178575  0.101021  0.074919  0.109333  -0.004534  \n",
       "4  0.124964  0.035321  0.102235  0.128210  0.124250  0.072940   0.419861  "
      ]
     },
     "execution_count": 4,
     "metadata": {},
     "output_type": "execute_result"
    }
   ],
   "source": [
    "data.head()"
   ]
  },
  {
   "cell_type": "code",
   "execution_count": 7,
   "metadata": {},
   "outputs": [],
   "source": [
    "def train_test_split(data, test_size, shuffle=True, random_state=None):\n",
    "    if shuffle:\n",
    "        data = reset(data, random_state=random_state)\n",
    "\n",
    "    train = data[int(len(data)*test_size):].reset_index(drop = True)\n",
    "    test  = data[:int(len(data)*test_size)].reset_index(drop = True)\n",
    "    \n",
    "    return train, test"
   ]
  },
  {
   "cell_type": "code",
   "execution_count": 8,
   "metadata": {},
   "outputs": [],
   "source": [
    "train, validation = train_test_split(data, 0.1, shuffle=True, random_state=123)"
   ]
  },
  {
   "cell_type": "code",
   "execution_count": 9,
   "metadata": {},
   "outputs": [],
   "source": [
    "Y = train['RestaurantsPriceRange']"
   ]
  },
  {
   "cell_type": "code",
   "execution_count": 10,
   "metadata": {},
   "outputs": [],
   "source": [
    "from sklearn.model_selection import train_test_split\n",
    "X_train, X_test, y_train, y_test = train_test_split(train, Y, test_size = 0.25, random_state = 101)"
   ]
  },
  {
   "cell_type": "code",
   "execution_count": 11,
   "metadata": {},
   "outputs": [],
   "source": [
    "X_train.drop(columns=['RestaurantsPriceRange'], inplace=True)\n",
    "X_test.drop(columns=['RestaurantsPriceRange'], inplace=True)"
   ]
  },
  {
   "cell_type": "markdown",
   "metadata": {},
   "source": [
    "## Model"
   ]
  },
  {
   "cell_type": "code",
   "execution_count": 14,
   "metadata": {},
   "outputs": [],
   "source": [
    "from sklearn.preprocessing import StandardScaler\n",
    "sc_X = StandardScaler()\n",
    "X_train = sc_X.fit_transform(X_train)\n",
    "X_test = sc_X.transform(X_test)"
   ]
  },
  {
   "cell_type": "code",
   "execution_count": 15,
   "metadata": {},
   "outputs": [],
   "source": [
    "results_train = y_train.copy()\n",
    "results_train.columns = ['y_actual']\n",
    "results_test = y_test.copy()\n",
    "results_test.columns = ['y_actual']\n",
    "\n",
    "from sklearn.model_selection import KFold\n",
    "from sklearn.model_selection import cross_val_score\n",
    "from sklearn.metrics import confusion_matrix, accuracy_score\n",
    "k_fold = KFold(n_splits=5, shuffle=True, random_state=0)"
   ]
  },
  {
   "cell_type": "code",
   "execution_count": 16,
   "metadata": {},
   "outputs": [],
   "source": [
    "logmodel = LogisticRegression() \n",
    "logmodel.fit(X_train,y_train)\n",
    "logpred = logmodel.predict_proba(X_test)[:,1]\n",
    "\n",
    "LOGCV_tr = metrics.roc_auc_score(y_train, logmodel.predict_proba(X_train)[:,1])\n",
    "LOGCV_te = metrics.roc_auc_score(y_test, logmodel.predict_proba(X_test)[:,1])\n",
    "\n",
    "LOGCV = (cross_val_score(logmodel, X_train, y_train, cv=k_fold, n_jobs=1, scoring = 'accuracy').mean())"
   ]
  },
  {
   "cell_type": "code",
   "execution_count": 17,
   "metadata": {},
   "outputs": [],
   "source": [
    "results_train['logreg'] = logmodel.predict_proba(X_train)[:,1]\n",
    "results_test['logreg'] = logpred"
   ]
  },
  {
   "cell_type": "code",
   "execution_count": 18,
   "metadata": {},
   "outputs": [],
   "source": [
    "logpred[logpred>0.5]=1\n",
    "logpred[logpred<0.5]=0"
   ]
  },
  {
   "cell_type": "code",
   "execution_count": 19,
   "metadata": {},
   "outputs": [],
   "source": [
    "y_test_pred = logmodel.predict_proba(X_test)[:,1]\n",
    "y_test_pred[y_test_pred>0.5]=1\n",
    "y_test_pred[y_test_pred<0.5]=0"
   ]
  },
  {
   "cell_type": "code",
   "execution_count": 20,
   "metadata": {},
   "outputs": [],
   "source": [
    "LOGCV_f = metrics.f1_score(y_test, y_test_pred)"
   ]
  },
  {
   "cell_type": "code",
   "execution_count": 22,
   "metadata": {},
   "outputs": [
    {
     "name": "stdout",
     "output_type": "stream",
     "text": [
      "40\n",
      "45\n",
      "50\n",
      "55\n",
      "60\n"
     ]
    }
   ],
   "source": [
    "# find a good k for knn\n",
    "from sklearn import model_selection\n",
    "from sklearn.neighbors import KNeighborsClassifier\n",
    "\n",
    "#Neighbors\n",
    "neighbors = np.arange(40,65,5)\n",
    "\n",
    "#Create empty dataframe that will hold cv scores\n",
    "knn_summary=pd.DataFrame(index=neighbors,columns=['roc_auc','std'])\n",
    "\n",
    "#Perform 3-fold cross validation on training set for different values of k:\n",
    "for k_value in neighbors:\n",
    "    knn = KNeighborsClassifier(n_neighbors = k_value, weights='uniform', p=2, n_jobs=-1)\n",
    "    scores = cross_val_score(knn, X_train, y_train, cv=k_fold, scoring='roc_auc')\n",
    "    knn_summary.loc[k_value,:]=[scores.mean()*100,scores.std()*100]\n",
    "    print(k_value)"
   ]
  },
  {
   "cell_type": "code",
   "execution_count": 23,
   "metadata": {},
   "outputs": [
    {
     "data": {
      "image/png": "[encoded data removed]",
      "text/plain": [
       "<Figure size 1080x432 with 1 Axes>"
      ]
     },
     "metadata": {
      "needs_background": "light"
     },
     "output_type": "display_data"
    }
   ],
   "source": [
    "plt.figure(figsize=(15,6))\n",
    "plt.plot(neighbors, knn_summary['roc_auc'],label='roc_auc')\n",
    "plt.fill_between(neighbors,\n",
    "                 (knn_summary['roc_auc']-knn_summary['std']).values.tolist(),\n",
    "                 (knn_summary['roc_auc']+knn_summary['std']).values.tolist(),\n",
    "                 facecolor='lightgrey', alpha=0.5, label='std')\n",
    "plt.xlabel('Number of Neighbors K')\n",
    "plt.ylabel('Train AUC')\n",
    "plt.legend()\n",
    "plt.show()"
   ]
  },
  {
   "cell_type": "code",
   "execution_count": 58,
   "metadata": {},
   "outputs": [
    {
     "name": "stdout",
     "output_type": "stream",
     "text": [
      "0.8157657734450205\n"
     ]
    }
   ],
   "source": [
    "optimal_k = 45\n",
    "knn = KNeighborsClassifier(n_neighbors=optimal_k)\n",
    "knn.fit(X_train, y_train)\n",
    "KNNCV = (cross_val_score(knn, X_train, y_train, cv=k_fold, n_jobs=1, scoring = 'accuracy').mean())\n",
    "results_train['knn'] = knn.predict_proba(X_train)[:,1]\n",
    "results_test['knn'] = knn.predict_proba(X_test)[:,1]\n",
    "\n",
    "KNNCV_tr = metrics.roc_auc_score(y_train, knn.predict_proba(X_train)[:,1])\n",
    "KNNCV_te = metrics.roc_auc_score(y_test, knn.predict_proba(X_test)[:,1])\n",
    "\n",
    "y_test_pred = knn.predict_proba(X_test)[:,1]\n",
    "y_test_pred[y_test_pred>0.5]=1\n",
    "y_test_pred[y_test_pred<0.5]=0\n",
    "\n",
    "KNNCV_f = metrics.f1_score(y_test, y_test_pred)\n",
    "\n",
    "print(KNNCV)"
   ]
  },
  {
   "cell_type": "code",
   "execution_count": 60,
   "metadata": {},
   "outputs": [
    {
     "name": "stdout",
     "output_type": "stream",
     "text": [
      "0.7563914941305216\n"
     ]
    }
   ],
   "source": [
    "from sklearn.svm import SVC\n",
    "svc= SVC(kernel = 'rbf', probability=True)\n",
    "svc.fit(X_train, y_train)\n",
    "SVCCV = (cross_val_score(svc, X_train, y_train, cv=k_fold, n_jobs=1, scoring = 'accuracy').mean())\n",
    "results_train['svc'] = svc.predict_proba(X_train)[:,1]\n",
    "results_test['svc'] =svc.predict_proba(X_test)[:,1]\n",
    "\n",
    "SVCCV_tr = metrics.roc_auc_score(y_train, svc.predict_proba(X_train)[:,1])\n",
    "SVCCV_te = metrics.roc_auc_score(y_test, svc.predict_proba(X_test)[:,1])\n",
    "\n",
    "y_test_pred = svc.predict_proba(X_test)[:,1]\n",
    "y_test_pred[y_test_pred>0.5]=1\n",
    "y_test_pred[y_test_pred<0.5]=0\n",
    "\n",
    "SVCCV_f = metrics.f1_score(y_test, y_test_pred)\n",
    "\n",
    "print(SVCCV)"
   ]
  },
  {
   "cell_type": "code",
   "execution_count": 61,
   "metadata": {},
   "outputs": [
    {
     "name": "stdout",
     "output_type": "stream",
     "text": [
      "0.7263531913160707\n"
     ]
    }
   ],
   "source": [
    "from sklearn.tree import DecisionTreeClassifier\n",
    "dtree = DecisionTreeClassifier(criterion='gini',max_depth = 15,min_samples_leaf = 150, min_samples_split=100) #criterion = entopy, gini\n",
    "dtree.fit(X_train, y_train)\n",
    "DTREECV = (cross_val_score(dtree, X_train, y_train, cv=k_fold, n_jobs=1, scoring = 'accuracy').mean())\n",
    "results_train['dtree'] = dtree.predict_proba(X_train)[:,1]\n",
    "results_test['dtree'] = dtree.predict_proba(X_test)[:,1]\n",
    "\n",
    "DTREECV_tr = metrics.roc_auc_score(y_train, dtree.predict_proba(X_train)[:,1])\n",
    "DTREECV_te = metrics.roc_auc_score(y_test, dtree.predict_proba(X_test)[:,1])\n",
    "\n",
    "y_test_pred = dtree.predict_proba(X_test)[:,1]\n",
    "y_test_pred[y_test_pred>0.5]=1\n",
    "y_test_pred[y_test_pred<0.5]=0\n",
    "\n",
    "DTREECV_f = metrics.f1_score(y_test, y_test_pred)\n",
    "\n",
    "print(DTREECV)"
   ]
  },
  {
   "cell_type": "code",
   "execution_count": 62,
   "metadata": {},
   "outputs": [
    {
     "name": "stdout",
     "output_type": "stream",
     "text": [
      "0.8296867743058605\n"
     ]
    }
   ],
   "source": [
    "from sklearn.ensemble import RandomForestClassifier\n",
    "rfc = RandomForestClassifier(n_estimators = 100,min_samples_split=100,min_samples_leaf=50,)#criterion = entopy,gini\n",
    "rfc.fit(X_train, y_train)\n",
    "RFCCV = (cross_val_score(rfc, X_train, y_train, cv=k_fold, n_jobs=1, scoring = 'accuracy').mean())\n",
    "results_train['rfc'] = rfc.predict_proba(X_train)[:,1]\n",
    "results_test['rfc'] = rfc.predict_proba(X_test)[:,1]\n",
    "\n",
    "RFCCV_tr = metrics.roc_auc_score(y_train, rfc.predict_proba(X_train)[:,1])\n",
    "RFCCV_te = metrics.roc_auc_score(y_test, rfc.predict_proba(X_test)[:,1])\n",
    "\n",
    "y_test_pred = rfc.predict_proba(X_test)[:,1]\n",
    "y_test_pred[y_test_pred>0.5]=1\n",
    "y_test_pred[y_test_pred<0.5]=0\n",
    "\n",
    "RFCCV_f = metrics.f1_score(y_test, y_test_pred)\n",
    "\n",
    "print(RFCCV)"
   ]
  },
  {
   "cell_type": "code",
   "execution_count": 63,
   "metadata": {},
   "outputs": [
    {
     "name": "stdout",
     "output_type": "stream",
     "text": [
      "0.7386053342589713\n"
     ]
    }
   ],
   "source": [
    "from sklearn.naive_bayes import GaussianNB\n",
    "gaussiannb= GaussianNB()\n",
    "gaussiannb.fit(X_train, y_train)\n",
    "gaussiannbpred = gaussiannb.predict_proba(X_test)[:,1]\n",
    "probs = gaussiannb.predict_proba(X_test)[:,1]\n",
    "GAUSSIANCV = (cross_val_score(gaussiannb, X_train, y_train, cv=k_fold, n_jobs=1, scoring = 'accuracy').mean())\n",
    "results_train['NB'] = gaussiannb.predict_proba(X_train)[:,1]\n",
    "results_test['NB'] = gaussiannbpred\n",
    "\n",
    "GAUSSIANCV_tr = metrics.roc_auc_score(y_train, gaussiannb.predict_proba(X_train)[:,1])\n",
    "GAUSSIANCV_te = metrics.roc_auc_score(y_test, gaussiannb.predict_proba(X_test)[:,1])\n",
    "\n",
    "y_test_pred = gaussiannb.predict_proba(X_test)[:,1]\n",
    "y_test_pred[y_test_pred>0.5]=1\n",
    "y_test_pred[y_test_pred<0.5]=0\n",
    "\n",
    "GAUSSIANCV_f = metrics.f1_score(y_test, y_test_pred)\n",
    "\n",
    "print(GAUSSIANCV)"
   ]
  },
  {
   "cell_type": "code",
   "execution_count": 64,
   "metadata": {},
   "outputs": [
    {
     "name": "stdout",
     "output_type": "stream",
     "text": [
      "0.8759546302288126\n"
     ]
    }
   ],
   "source": [
    "from xgboost import XGBClassifier\n",
    "xb = XGBClassifier(max_depth=3,eval_metric='auc',min_child_weight=5)\n",
    "xb.fit(X_train, y_train)\n",
    "XGBCV = (cross_val_score(estimator = xb, X = X_train, y = y_train, cv = 10).mean())\n",
    "results_train['xgb'] = xb.predict_proba(X_train)[:,1]\n",
    "results_test['xgb'] = xb.predict_proba(X_test)[:,1]\n",
    "\n",
    "XGBCV_tr = metrics.roc_auc_score(y_train, xb.predict_proba(X_train)[:,1])\n",
    "XGBCV_te = metrics.roc_auc_score(y_test, xb.predict_proba(X_test)[:,1])\n",
    "\n",
    "y_test_pred = xb.predict_proba(X_test)[:,1]\n",
    "y_test_pred[y_test_pred>0.5]=1\n",
    "y_test_pred[y_test_pred<0.5]=0\n",
    "\n",
    "XGBCV_f = metrics.f1_score(y_test, y_test_pred)\n",
    "\n",
    "print(XGBCV)"
   ]
  },
  {
   "cell_type": "code",
   "execution_count": 65,
   "metadata": {},
   "outputs": [
    {
     "name": "stdout",
     "output_type": "stream",
     "text": [
      "0.8613972168932734\n"
     ]
    }
   ],
   "source": [
    "from sklearn.ensemble import GradientBoostingClassifier\n",
    "gbk = GradientBoostingClassifier(n_estimators=1000, learning_rate=.05, max_depth=5)\n",
    "gbk.fit(X_train, y_train)\n",
    "gbkpred = gbk.predict_proba(X_test)[:,1]\n",
    "GBKCV = (cross_val_score(gbk, X_train, y_train, cv=k_fold, n_jobs=1, scoring = 'accuracy').mean())\n",
    "results_train['GBT'] = gbk.predict_proba(X_train)[:,1]\n",
    "results_test['GBT'] = gbkpred\n",
    "\n",
    "GBKCV_tr = metrics.roc_auc_score(y_train, gbk.predict_proba(X_train)[:,1])\n",
    "GBKCV_te = metrics.roc_auc_score(y_test, gbk.predict_proba(X_test)[:,1])\n",
    "\n",
    "y_test_pred = gbk.predict_proba(X_test)[:,1]\n",
    "y_test_pred[y_test_pred>0.5]=1\n",
    "y_test_pred[y_test_pred<0.5]=0\n",
    "\n",
    "GBKCV_f = metrics.f1_score(y_test, y_test_pred)\n",
    "\n",
    "print(GBKCV)"
   ]
  },
  {
   "cell_type": "code",
   "execution_count": 66,
   "metadata": {},
   "outputs": [
    {
     "name": "stdout",
     "output_type": "stream",
     "text": [
      "0.6624388224075867\n"
     ]
    }
   ],
   "source": [
    "from sklearn.neural_network import MLPClassifier\n",
    "nn = MLPClassifier(hidden_layer_sizes=(8,3))\n",
    "NNCV = (cross_val_score(nn, X_train, y_train, cv=k_fold, n_jobs=-1, scoring = 'roc_auc').mean())\n",
    "nn.fit(X_train,y_train)\n",
    "results_train['nn'] = nn.predict_proba(X_train)[:,1]\n",
    "results_test['nn'] = nn.predict_proba(X_test)[:,1]\n",
    "\n",
    "NNCV_tr = metrics.roc_auc_score(y_train, nn.predict_proba(X_train)[:,1])\n",
    "NNCV_te = metrics.roc_auc_score(y_test, nn.predict_proba(X_test)[:,1])\n",
    "\n",
    "y_test_pred = nn.predict_proba(X_test)[:,1]\n",
    "y_test_pred[y_test_pred>0.5]=1\n",
    "y_test_pred[y_test_pred<0.5]=0\n",
    "\n",
    "NNCV_f = metrics.f1_score(y_test, y_test_pred)\n",
    "\n",
    "print(NNCV)"
   ]
  },
  {
   "cell_type": "code",
   "execution_count": 34,
   "metadata": {},
   "outputs": [],
   "source": [
    "from sklearn import metrics\n",
    "\n",
    "def draw_auc_curve(ax, model_name, modelNameDict, results):\n",
    "    preds=results[modelNameDict[model_name]]\n",
    "#     y=results['y_actual']\n",
    "    y = y_test\n",
    "    fpr, tpr, threshold = metrics.roc_curve(y,preds)\n",
    "    roc_auc=metrics.auc(fpr,tpr)\n",
    "    \n",
    "    ax.plot(fpr,tpr,'b',label=f\"AUC={roc_auc:.3f}\")\n",
    "    ax.plot([0, 1], [0, 1],'r--')\n",
    "    ax.set_title(f\"ROC {model_name}\",fontsize=20)\n",
    "    ax.set_ylabel('True Positive Rate',fontsize=20)\n",
    "    ax.set_xlabel('False Positive Rate',fontsize=15)\n",
    "    ax.legend(loc = 'lower right', prop={'size': 16})"
   ]
  },
  {
   "cell_type": "code",
   "execution_count": 35,
   "metadata": {},
   "outputs": [
    {
     "data": {
      "image/png": "[encoded data removed]",
      "text/plain": [
       "<Figure size 1440x1296 with 9 Axes>"
      ]
     },
     "metadata": {
      "needs_background": "light"
     },
     "output_type": "display_data"
    }
   ],
   "source": [
    "n_col=3\n",
    "n_row=int(math.ceil(len(modelDict)/n_col))\n",
    "\n",
    "fig, ax_arr = plt.subplots(nrows = n_row, ncols = n_col, figsize = (20,n_row*6))\n",
    "for i, (model_name,model) in enumerate(modelDict.items()):\n",
    "    i_row=i//n_col\n",
    "    i_col=i%n_col\n",
    "    draw_auc_curve(ax_arr[i_row,i_col], model_name, modelNameDict, results_test)\n",
    "\n",
    "plt.subplots_adjust(wspace=0.2)\n",
    "plt.tight_layout() "
   ]
  },
  {
   "cell_type": "code",
   "execution_count": 36,
   "metadata": {
    "scrolled": false
   },
   "outputs": [
    {
     "data": {
      "text/plain": [
       "<matplotlib.legend.Legend at 0x7fe7f7346080>"
      ]
     },
     "execution_count": 36,
     "metadata": {},
     "output_type": "execute_result"
    },
    {
     "data": {
      "image/png": "[encoded data removed]",
      "text/plain": [
       "<Figure size 1440x720 with 1 Axes>"
      ]
     },
     "metadata": {
      "needs_background": "light"
     },
     "output_type": "display_data"
    }
   ],
   "source": [
    "plt.figure(figsize=(20,10))\n",
    "for model_name, col_name in modelNameDict.items():\n",
    "    preds=results_test[col_name]\n",
    "    fpr, tpr, threshold = metrics.roc_curve(y_test,preds)\n",
    "    roc_auc=metrics.auc(fpr,tpr)\n",
    "    plt.plot(fpr,tpr,label=f\"{model_name}: {roc_auc:.3f}\")\n",
    "\n",
    "plt.plot([0, 1], [0, 1],'r--')\n",
    "ax=plt.gca()\n",
    "ax.set_title(\"ROC Comparison on Test Data\",fontsize=20)\n",
    "ax.set_ylabel('True Positive Rate',fontsize=20)\n",
    "ax.set_xlabel('False Positive Rate',fontsize=15)\n",
    "ax.legend(loc = 'lower right', prop={'size': 16})"
   ]
  },
  {
   "cell_type": "code",
   "execution_count": 123,
   "metadata": {},
   "outputs": [
    {
     "data": {
      "text/html": [
       "<div>\n",
       "<style scoped>\n",
       "    .dataframe tbody tr th:only-of-type {\n",
       "        vertical-align: middle;\n",
       "    }\n",
       "\n",
       "    .dataframe tbody tr th {\n",
       "        vertical-align: top;\n",
       "    }\n",
       "\n",
       "    .dataframe thead th {\n",
       "        text-align: right;\n",
       "    }\n",
       "</style>\n",
       "<table border=\"1\" class=\"dataframe\">\n",
       "  <thead>\n",
       "    <tr style=\"text-align: right;\">\n",
       "      <th></th>\n",
       "      <th>Models</th>\n",
       "      <th>Accuracy</th>\n",
       "      <th>Train AUC</th>\n",
       "      <th>Test AUC</th>\n",
       "      <th>F1</th>\n",
       "    </tr>\n",
       "  </thead>\n",
       "  <tbody>\n",
       "    <tr>\n",
       "      <th>0</th>\n",
       "      <td>NN</td>\n",
       "      <td>0.662439</td>\n",
       "      <td>0.522116</td>\n",
       "      <td>0.496777</td>\n",
       "      <td>0.321680</td>\n",
       "    </tr>\n",
       "    <tr>\n",
       "      <th>1</th>\n",
       "      <td>XGBoost</td>\n",
       "      <td>0.875955</td>\n",
       "      <td>0.732567</td>\n",
       "      <td>0.713269</td>\n",
       "      <td>0.167264</td>\n",
       "    </tr>\n",
       "    <tr>\n",
       "      <th>2</th>\n",
       "      <td>Gradient Boosting</td>\n",
       "      <td>0.861397</td>\n",
       "      <td>0.958767</td>\n",
       "      <td>0.761463</td>\n",
       "      <td>0.136352</td>\n",
       "    </tr>\n",
       "    <tr>\n",
       "      <th>3</th>\n",
       "      <td>Gaussian NB</td>\n",
       "      <td>0.738605</td>\n",
       "      <td>0.700761</td>\n",
       "      <td>0.673612</td>\n",
       "      <td>0.071478</td>\n",
       "    </tr>\n",
       "    <tr>\n",
       "      <th>4</th>\n",
       "      <td>Logistic Model</td>\n",
       "      <td>0.661752</td>\n",
       "      <td>0.510901</td>\n",
       "      <td>0.498578</td>\n",
       "      <td>0.000000</td>\n",
       "    </tr>\n",
       "    <tr>\n",
       "      <th>5</th>\n",
       "      <td>Support Vector Machine</td>\n",
       "      <td>0.756391</td>\n",
       "      <td>0.654239</td>\n",
       "      <td>0.616035</td>\n",
       "      <td>0.000000</td>\n",
       "    </tr>\n",
       "    <tr>\n",
       "      <th>6</th>\n",
       "      <td>K-Near Neighbors</td>\n",
       "      <td>0.815766</td>\n",
       "      <td>0.675866</td>\n",
       "      <td>0.627029</td>\n",
       "      <td>0.000000</td>\n",
       "    </tr>\n",
       "    <tr>\n",
       "      <th>7</th>\n",
       "      <td>Random Forest Classifier</td>\n",
       "      <td>0.829687</td>\n",
       "      <td>0.687152</td>\n",
       "      <td>0.699628</td>\n",
       "      <td>0.000000</td>\n",
       "    </tr>\n",
       "    <tr>\n",
       "      <th>8</th>\n",
       "      <td>Decision Tree Classifier</td>\n",
       "      <td>0.726353</td>\n",
       "      <td>0.701530</td>\n",
       "      <td>0.716578</td>\n",
       "      <td>0.000000</td>\n",
       "    </tr>\n",
       "  </tbody>\n",
       "</table>\n",
       "</div>"
      ],
      "text/plain": [
       "                     Models  Accuracy  Train AUC  Test AUC        F1\n",
       "0                        NN  0.662439   0.522116  0.496777  0.321680\n",
       "1                   XGBoost  0.875955   0.732567  0.713269  0.167264\n",
       "2         Gradient Boosting  0.861397   0.958767  0.761463  0.136352\n",
       "3               Gaussian NB  0.738605   0.700761  0.673612  0.071478\n",
       "4            Logistic Model  0.661752   0.510901  0.498578  0.000000\n",
       "5    Support Vector Machine  0.756391   0.654239  0.616035  0.000000\n",
       "6          K-Near Neighbors  0.815766   0.675866  0.627029  0.000000\n",
       "7  Random Forest Classifier  0.829687   0.687152  0.699628  0.000000\n",
       "8  Decision Tree Classifier  0.726353   0.701530  0.716578  0.000000"
      ]
     },
     "execution_count": 123,
     "metadata": {},
     "output_type": "execute_result"
    }
   ],
   "source": [
    "models = pd.DataFrame({\n",
    "                'Models': ['Random Forest Classifier', 'Decision Tree Classifier', 'Support Vector Machine',\n",
    "                           'K-Near Neighbors', 'Logistic Model', 'Gaussian NB', 'XGBoost', 'Gradient Boosting', 'NN'],\n",
    "                'Accuracy':  [RFCCV, DTREECV, SVCCV, KNNCV, LOGCV, GAUSSIANCV, XGBCV, GBKCV, NNCV],\n",
    "'Train AUC':  [RFCCV_tr, DTREECV_tr, SVCCV_tr, KNNCV_tr, LOGCV_tr, GAUSSIANCV_tr, XGBCV_tr, GBKCV_tr, NNCV_tr],\n",
    "'Test AUC':  [RFCCV_te, DTREECV_te, SVCCV_te, KNNCV_te, LOGCV_te, GAUSSIANCV_te, XGBCV_te, GBKCV_te, NNCV_te],\n",
    "'F1':  [RFCCV_f, DTREECV_f, SVCCV_f, KNNCV_f, LOGCV_f, GAUSSIANCV_f, XGBCV_f, GBKCV_f, NNCV_f]})\n",
    "\n",
    "models.sort_values(by='F1', ascending=False)"
   ]
  },
  {
   "cell_type": "code",
   "execution_count": 124,
   "metadata": {},
   "outputs": [],
   "source": [
    "gaussiannb= GaussianNB('var_smoothing': 0.1)\n",
    "gaussiannb.fit(X_train, y_train)\n",
    "gaussiannbpred = gaussiannb.predict_proba(X_test)[:,1]\n",
    "probs = gaussiannb.predict_proba(X_test)[:,1]\n",
    "GAUSSIANCV = (cross_val_score(gaussiannb, X_train, y_train, cv=k_fold, n_jobs=1, scoring = 'accuracy').mean())\n",
    "results_train['NB'] = gaussiannb.predict_proba(X_train)[:,1]\n",
    "results_test['NB'] = gaussiannbpred\n",
    "\n",
    "GAUSSIANCV_tr = metrics.roc_auc_score(y_train, gaussiannb.predict_proba(X_train)[:,1])\n",
    "GAUSSIANCV_te = metrics.roc_auc_score(y_test, gaussiannb.predict_proba(X_test)[:,1])\n",
    "\n",
    "y_test_pred = gaussiannb.predict_proba(X_test)[:,1]\n",
    "y_test_pred[y_test_pred>0.5]=1\n",
    "y_test_pred[y_test_pred<0.5]=0\n",
    "\n",
    "GAUSSIANCV_f = metrics.f1_score(y_test, y_test_pred)"
   ]
  },
  {
   "cell_type": "code",
   "execution_count": 125,
   "metadata": {},
   "outputs": [],
   "source": [
    "xb = XGBClassifier(max_depth=4,eval_metric='auc',min_child_weight=5,'eta':0.1)\n",
    "xb.fit(X_train, y_train)\n",
    "XGBCV = (cross_val_score(estimator = xb, X = X_train, y = y_train, cv = 10).mean())\n",
    "results_train['xgb'] = xb.predict_proba(X_train)[:,1]\n",
    "results_test['xgb'] = xb.predict_proba(X_test)[:,1]\n",
    "\n",
    "XGBCV_tr = metrics.roc_auc_score(y_train, xb.predict_proba(X_train)[:,1])\n",
    "XGBCV_te = metrics.roc_auc_score(y_test, xb.predict_proba(X_test)[:,1])\n",
    "\n",
    "y_test_pred = xb.predict_proba(X_test)[:,1]\n",
    "y_test_pred[y_test_pred>0.5]=1\n",
    "y_test_pred[y_test_pred<0.5]=0\n",
    "\n",
    "XGBCV_f = metrics.f1_score(y_test, y_test_pred)"
   ]
  },
  {
   "cell_type": "code",
   "execution_count": 127,
   "metadata": {},
   "outputs": [
    {
     "data": {
      "text/html": [
       "<div>\n",
       "<style scoped>\n",
       "    .dataframe tbody tr th:only-of-type {\n",
       "        vertical-align: middle;\n",
       "    }\n",
       "\n",
       "    .dataframe tbody tr th {\n",
       "        vertical-align: top;\n",
       "    }\n",
       "\n",
       "    .dataframe thead th {\n",
       "        text-align: right;\n",
       "    }\n",
       "</style>\n",
       "<table border=\"1\" class=\"dataframe\">\n",
       "  <thead>\n",
       "    <tr style=\"text-align: right;\">\n",
       "      <th></th>\n",
       "      <th>Models</th>\n",
       "      <th>Accuracy</th>\n",
       "      <th>Train AUC</th>\n",
       "      <th>Test AUC</th>\n",
       "      <th>F1</th>\n",
       "    </tr>\n",
       "  </thead>\n",
       "  <tbody>\n",
       "    <tr>\n",
       "      <th>0</th>\n",
       "      <td>XGBoost</td>\n",
       "      <td>0.887859</td>\n",
       "      <td>0.789236</td>\n",
       "      <td>0.789236</td>\n",
       "      <td>0.177264</td>\n",
       "    </tr>\n",
       "    <tr>\n",
       "      <th>1</th>\n",
       "      <td>Gaussian NB</td>\n",
       "      <td>0.746258</td>\n",
       "      <td>0.715648</td>\n",
       "      <td>0.715648</td>\n",
       "      <td>0.072962</td>\n",
       "    </tr>\n",
       "  </tbody>\n",
       "</table>\n",
       "</div>"
      ],
      "text/plain": [
       "        Models  Accuracy  Train AUC  Test AUC        F1\n",
       "0      XGBoost  0.887859   0.789236  0.789236  0.177264\n",
       "1  Gaussian NB  0.746258   0.715648  0.715648  0.072962"
      ]
     },
     "execution_count": 127,
     "metadata": {},
     "output_type": "execute_result"
    }
   ],
   "source": [
    "model_com = pd.DataFrame({\n",
    "                'Models': ['XGBoost', 'Gaussian NB'],\n",
    "                'Accuracy':  [XGBCV, GAUSSIANCV],\n",
    "'Train AUC':  [XGBCV_tr, GAUSSIANCV_tr],\n",
    "'Test AUC':  [XGBCV_te, GAUSSIANCV_te],\n",
    "'F1':  [XGBCV_f, GAUSSIANCV_f]})\n",
    "\n",
    "model_com"
   ]
  },
  {
   "cell_type": "code",
   "execution_count": 33,
   "metadata": {},
   "outputs": [],
   "source": [
    "for i in range(20):\n",
    "    auc_rfc=[]\n",
    "    xb = XGBClassifier(max_depth=3,eval_metric='auc',min_child_weight=5)\n",
    "    xb.fit(X_train, y_train)\n",
    "    XGBCV_te = metrics.roc_auc_score(y_test, xb.predict_proba(X_test)[:,1])\n",
    "    auc_rfc.append(XGBCV_te)\n",
    "\n",
    "for i in range(20):\n",
    "    auc_xb=[]\n",
    "    xb = XGBClassifier(max_depth=3,eval_metric='auc',min_child_weight=5)\n",
    "    xb.fit(X_train, y_train)\n",
    "    RFCCV_te = metrics.roc_auc_score(y_test, rfc.predict_proba(X_test)[:,1])\n",
    "    auc_xb.append(RFCCV_te)\n",
    "auc_te = pd.DataFrame({'XGBoost':auc_xb,'Random Forest':auc_rfc})"
   ]
  },
  {
   "cell_type": "code",
   "execution_count": 46,
   "metadata": {},
   "outputs": [
    {
     "data": {
      "text/html": [
       "<div>\n",
       "<style scoped>\n",
       "    .dataframe tbody tr th:only-of-type {\n",
       "        vertical-align: middle;\n",
       "    }\n",
       "\n",
       "    .dataframe tbody tr th {\n",
       "        vertical-align: top;\n",
       "    }\n",
       "\n",
       "    .dataframe thead th {\n",
       "        text-align: right;\n",
       "    }\n",
       "</style>\n",
       "<table border=\"1\" class=\"dataframe\">\n",
       "  <thead>\n",
       "    <tr style=\"text-align: right;\">\n",
       "      <th></th>\n",
       "      <th>XGBoost</th>\n",
       "      <th>Random Forest</th>\n",
       "    </tr>\n",
       "  </thead>\n",
       "  <tbody>\n",
       "    <tr>\n",
       "      <th>0</th>\n",
       "      <td>0.674993</td>\n",
       "      <td>0.683402</td>\n",
       "    </tr>\n",
       "    <tr>\n",
       "      <th>1</th>\n",
       "      <td>0.715826</td>\n",
       "      <td>0.707415</td>\n",
       "    </tr>\n",
       "    <tr>\n",
       "      <th>2</th>\n",
       "      <td>0.705322</td>\n",
       "      <td>0.710623</td>\n",
       "    </tr>\n",
       "    <tr>\n",
       "      <th>3</th>\n",
       "      <td>0.722743</td>\n",
       "      <td>0.693361</td>\n",
       "    </tr>\n",
       "    <tr>\n",
       "      <th>4</th>\n",
       "      <td>0.668290</td>\n",
       "      <td>0.693246</td>\n",
       "    </tr>\n",
       "    <tr>\n",
       "      <th>5</th>\n",
       "      <td>0.740083</td>\n",
       "      <td>0.719471</td>\n",
       "    </tr>\n",
       "    <tr>\n",
       "      <th>6</th>\n",
       "      <td>0.741567</td>\n",
       "      <td>0.645350</td>\n",
       "    </tr>\n",
       "    <tr>\n",
       "      <th>7</th>\n",
       "      <td>0.692842</td>\n",
       "      <td>0.736524</td>\n",
       "    </tr>\n",
       "    <tr>\n",
       "      <th>8</th>\n",
       "      <td>0.662721</td>\n",
       "      <td>0.658798</td>\n",
       "    </tr>\n",
       "    <tr>\n",
       "      <th>9</th>\n",
       "      <td>0.684959</td>\n",
       "      <td>0.717751</td>\n",
       "    </tr>\n",
       "    <tr>\n",
       "      <th>10</th>\n",
       "      <td>0.744232</td>\n",
       "      <td>0.719273</td>\n",
       "    </tr>\n",
       "    <tr>\n",
       "      <th>11</th>\n",
       "      <td>0.717000</td>\n",
       "      <td>0.643474</td>\n",
       "    </tr>\n",
       "    <tr>\n",
       "      <th>12</th>\n",
       "      <td>0.723298</td>\n",
       "      <td>0.715700</td>\n",
       "    </tr>\n",
       "    <tr>\n",
       "      <th>13</th>\n",
       "      <td>0.668778</td>\n",
       "      <td>0.710508</td>\n",
       "    </tr>\n",
       "    <tr>\n",
       "      <th>14</th>\n",
       "      <td>0.707209</td>\n",
       "      <td>0.684247</td>\n",
       "    </tr>\n",
       "    <tr>\n",
       "      <th>15</th>\n",
       "      <td>0.740711</td>\n",
       "      <td>0.662536</td>\n",
       "    </tr>\n",
       "    <tr>\n",
       "      <th>16</th>\n",
       "      <td>0.675889</td>\n",
       "      <td>0.689740</td>\n",
       "    </tr>\n",
       "    <tr>\n",
       "      <th>17</th>\n",
       "      <td>0.733769</td>\n",
       "      <td>0.649236</td>\n",
       "    </tr>\n",
       "    <tr>\n",
       "      <th>18</th>\n",
       "      <td>0.724396</td>\n",
       "      <td>0.690936</td>\n",
       "    </tr>\n",
       "    <tr>\n",
       "      <th>19</th>\n",
       "      <td>0.665303</td>\n",
       "      <td>0.719089</td>\n",
       "    </tr>\n",
       "  </tbody>\n",
       "</table>\n",
       "</div>"
      ],
      "text/plain": [
       "     XGBoost  Random Forest\n",
       "0   0.674993       0.683402\n",
       "1   0.715826       0.707415\n",
       "2   0.705322       0.710623\n",
       "3   0.722743       0.693361\n",
       "4   0.668290       0.693246\n",
       "5   0.740083       0.719471\n",
       "6   0.741567       0.645350\n",
       "7   0.692842       0.736524\n",
       "8   0.662721       0.658798\n",
       "9   0.684959       0.717751\n",
       "10  0.744232       0.719273\n",
       "11  0.717000       0.643474\n",
       "12  0.723298       0.715700\n",
       "13  0.668778       0.710508\n",
       "14  0.707209       0.684247\n",
       "15  0.740711       0.662536\n",
       "16  0.675889       0.689740\n",
       "17  0.733769       0.649236\n",
       "18  0.724396       0.690936\n",
       "19  0.665303       0.719089"
      ]
     },
     "execution_count": 46,
     "metadata": {},
     "output_type": "execute_result"
    }
   ],
   "source": [
    "auc_te"
   ]
  },
  {
   "cell_type": "code",
   "execution_count": 47,
   "metadata": {},
   "outputs": [
    {
     "name": "stdout",
     "output_type": "stream",
     "text": [
      "Ttest_1sampResult(statistic=6.613954828043137, pvalue=1.2049726812597405e-10)\n",
      "cannot reject h0\n"
     ]
    }
   ],
   "source": [
    "diff = []\n",
    "for i in auc_te.XGBoost:\n",
    "    for j in auc_te['Random Forest']:\n",
    "        diff.append(i-j)\n",
    "print(stats.ttest_1samp(diff, 0.0))\n",
    "s, p = stats.ttest_1samp(diff, 0.0)\n",
    "if (1 - p/2) >= 0.05:\n",
    "    print('cannot reject h0')\n",
    "else:\n",
    "    print('can reject h0')   "
   ]
  },
  {
   "cell_type": "code",
   "execution_count": 27,
   "metadata": {},
   "outputs": [
    {
     "data": {
      "text/html": [
       "<div>\n",
       "<style scoped>\n",
       "    .dataframe tbody tr th:only-of-type {\n",
       "        vertical-align: middle;\n",
       "    }\n",
       "\n",
       "    .dataframe tbody tr th {\n",
       "        vertical-align: top;\n",
       "    }\n",
       "\n",
       "    .dataframe thead th {\n",
       "        text-align: right;\n",
       "    }\n",
       "</style>\n",
       "<table border=\"1\" class=\"dataframe\">\n",
       "  <thead>\n",
       "    <tr style=\"text-align: right;\">\n",
       "      <th></th>\n",
       "      <th>feature</th>\n",
       "      <th>importance</th>\n",
       "    </tr>\n",
       "  </thead>\n",
       "  <tbody>\n",
       "    <tr>\n",
       "      <th>3</th>\n",
       "      <td>LDA_3</td>\n",
       "      <td>0.342429</td>\n",
       "    </tr>\n",
       "    <tr>\n",
       "      <th>11</th>\n",
       "      <td>polarity</td>\n",
       "      <td>0.270381</td>\n",
       "    </tr>\n",
       "    <tr>\n",
       "      <th>1</th>\n",
       "      <td>LDA_1</td>\n",
       "      <td>0.146279</td>\n",
       "    </tr>\n",
       "    <tr>\n",
       "      <th>2</th>\n",
       "      <td>LDA_2</td>\n",
       "      <td>0.091189</td>\n",
       "    </tr>\n",
       "    <tr>\n",
       "      <th>0</th>\n",
       "      <td>review_stars</td>\n",
       "      <td>0.031021</td>\n",
       "    </tr>\n",
       "    <tr>\n",
       "      <th>7</th>\n",
       "      <td>LDA_7</td>\n",
       "      <td>0.028823</td>\n",
       "    </tr>\n",
       "    <tr>\n",
       "      <th>10</th>\n",
       "      <td>LDA_10</td>\n",
       "      <td>0.026032</td>\n",
       "    </tr>\n",
       "    <tr>\n",
       "      <th>5</th>\n",
       "      <td>LDA_5</td>\n",
       "      <td>0.015203</td>\n",
       "    </tr>\n",
       "    <tr>\n",
       "      <th>9</th>\n",
       "      <td>LDA_9</td>\n",
       "      <td>0.013033</td>\n",
       "    </tr>\n",
       "    <tr>\n",
       "      <th>4</th>\n",
       "      <td>LDA_4</td>\n",
       "      <td>0.012224</td>\n",
       "    </tr>\n",
       "    <tr>\n",
       "      <th>8</th>\n",
       "      <td>LDA_8</td>\n",
       "      <td>0.011925</td>\n",
       "    </tr>\n",
       "    <tr>\n",
       "      <th>6</th>\n",
       "      <td>LDA_6</td>\n",
       "      <td>0.011461</td>\n",
       "    </tr>\n",
       "  </tbody>\n",
       "</table>\n",
       "</div>"
      ],
      "text/plain": [
       "         feature  importance\n",
       "3          LDA_3    0.342429\n",
       "11      polarity    0.270381\n",
       "1          LDA_1    0.146279\n",
       "2          LDA_2    0.091189\n",
       "0   review_stars    0.031021\n",
       "7          LDA_7    0.028823\n",
       "10        LDA_10    0.026032\n",
       "5          LDA_5    0.015203\n",
       "9          LDA_9    0.013033\n",
       "4          LDA_4    0.012224\n",
       "8          LDA_8    0.011925\n",
       "6          LDA_6    0.011461"
      ]
     },
     "execution_count": 27,
     "metadata": {},
     "output_type": "execute_result"
    }
   ],
   "source": [
    "features = X_train.columns\n",
    "pd.DataFrame({'feature': features, 'importance': xb.feature_importances_}).\\\n",
    "sort_values('importance', ascending=False).reset_index(drop=True)"
   ]
  },
  {
   "cell_type": "code",
   "execution_count": 34,
   "metadata": {},
   "outputs": [
    {
     "data": {
      "text/html": [
       "<div>\n",
       "<style scoped>\n",
       "    .dataframe tbody tr th:only-of-type {\n",
       "        vertical-align: middle;\n",
       "    }\n",
       "\n",
       "    .dataframe tbody tr th {\n",
       "        vertical-align: top;\n",
       "    }\n",
       "\n",
       "    .dataframe thead th {\n",
       "        text-align: right;\n",
       "    }\n",
       "</style>\n",
       "<table border=\"1\" class=\"dataframe\">\n",
       "  <thead>\n",
       "    <tr style=\"text-align: right;\">\n",
       "      <th></th>\n",
       "      <th>feature</th>\n",
       "      <th>importance</th>\n",
       "    </tr>\n",
       "  </thead>\n",
       "  <tbody>\n",
       "    <tr>\n",
       "      <th>0</th>\n",
       "      <td>review_stars</td>\n",
       "      <td>0.325776</td>\n",
       "    </tr>\n",
       "    <tr>\n",
       "      <th>2</th>\n",
       "      <td>LDA_2</td>\n",
       "      <td>0.284999</td>\n",
       "    </tr>\n",
       "    <tr>\n",
       "      <th>1</th>\n",
       "      <td>LDA_1</td>\n",
       "      <td>0.126054</td>\n",
       "    </tr>\n",
       "    <tr>\n",
       "      <th>11</th>\n",
       "      <td>polarity</td>\n",
       "      <td>0.082911</td>\n",
       "    </tr>\n",
       "    <tr>\n",
       "      <th>7</th>\n",
       "      <td>LDA_7</td>\n",
       "      <td>0.052072</td>\n",
       "    </tr>\n",
       "    <tr>\n",
       "      <th>3</th>\n",
       "      <td>LDA_3</td>\n",
       "      <td>0.032282</td>\n",
       "    </tr>\n",
       "    <tr>\n",
       "      <th>5</th>\n",
       "      <td>LDA_5</td>\n",
       "      <td>0.021307</td>\n",
       "    </tr>\n",
       "    <tr>\n",
       "      <th>9</th>\n",
       "      <td>LDA_9</td>\n",
       "      <td>0.020096</td>\n",
       "    </tr>\n",
       "    <tr>\n",
       "      <th>8</th>\n",
       "      <td>LDA_8</td>\n",
       "      <td>0.018932</td>\n",
       "    </tr>\n",
       "    <tr>\n",
       "      <th>10</th>\n",
       "      <td>LDA_10</td>\n",
       "      <td>0.012198</td>\n",
       "    </tr>\n",
       "    <tr>\n",
       "      <th>6</th>\n",
       "      <td>LDA_6</td>\n",
       "      <td>0.011667</td>\n",
       "    </tr>\n",
       "    <tr>\n",
       "      <th>4</th>\n",
       "      <td>LDA_4</td>\n",
       "      <td>0.011706</td>\n",
       "    </tr>\n",
       "  </tbody>\n",
       "</table>\n",
       "</div>"
      ],
      "text/plain": [
       "         feature  importance\n",
       "0   review_stars    0.325776\n",
       "2          LDA_2    0.284999\n",
       "1          LDA_1    0.126054\n",
       "11      polarity    0.082911\n",
       "7          LDA_7    0.052072\n",
       "3          LDA_3    0.032282\n",
       "5          LDA_5    0.021307\n",
       "9          LDA_9    0.020096\n",
       "8          LDA_8    0.018932\n",
       "10        LDA_10    0.012198\n",
       "6          LDA_6    0.011667\n",
       "4          LDA_4    0.011706"
      ]
     },
     "execution_count": 34,
     "metadata": {},
     "output_type": "execute_result"
    }
   ],
   "source": [
    "features = X.columns\n",
    "pd.DataFrame({'feature': features, 'importance': rfc.feature_importances_}).\\\n",
    "sort_values('importance', ascending=False).reset_index(drop=True)"
   ]
  }
 ],
 "metadata": {
  "kernelspec": {
   "display_name": "Python 3",
   "language": "python",
   "name": "python3"
  },
  "language_info": {
   "codemirror_mode": {
    "name": "ipython",
    "version": 3
   },
   "file_extension": ".py",
   "mimetype": "text/x-python",
   "name": "python",
   "nbconvert_exporter": "python",
   "pygments_lexer": "ipython3",
   "version": "3.8.5"
  }
 },
 "nbformat": 4,
 "nbformat_minor": 2
}
